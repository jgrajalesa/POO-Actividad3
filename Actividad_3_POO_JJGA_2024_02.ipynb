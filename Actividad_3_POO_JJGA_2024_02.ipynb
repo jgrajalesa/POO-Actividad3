{
  "nbformat": 4,
  "nbformat_minor": 0,
  "metadata": {
    "colab": {
      "provenance": [],
      "toc_visible": true,
      "authorship_tag": "ABX9TyP1jokc6JE/aQDBmsSlq2N3",
      "include_colab_link": true
    },
    "kernelspec": {
      "name": "python3",
      "display_name": "Python 3"
    },
    "language_info": {
      "name": "python"
    },
    "widgets": {
      "application/vnd.jupyter.widget-state+json": {
        "508242b389674658afdf871da8a2faa0": {
          "model_module": "@jupyter-widgets/controls",
          "model_name": "TextModel",
          "model_module_version": "1.5.0",
          "state": {
            "_dom_classes": [],
            "_model_module": "@jupyter-widgets/controls",
            "_model_module_version": "1.5.0",
            "_model_name": "TextModel",
            "_view_count": null,
            "_view_module": "@jupyter-widgets/controls",
            "_view_module_version": "1.5.0",
            "_view_name": "TextView",
            "continuous_update": true,
            "description": "Código:",
            "description_tooltip": null,
            "disabled": false,
            "layout": "IPY_MODEL_7406664b8693459bac948daff7cfa822",
            "placeholder": "​",
            "style": "IPY_MODEL_ffde0ae862b340e2b33ffe57bce8909d",
            "value": "13216"
          }
        },
        "7406664b8693459bac948daff7cfa822": {
          "model_module": "@jupyter-widgets/base",
          "model_name": "LayoutModel",
          "model_module_version": "1.2.0",
          "state": {
            "_model_module": "@jupyter-widgets/base",
            "_model_module_version": "1.2.0",
            "_model_name": "LayoutModel",
            "_view_count": null,
            "_view_module": "@jupyter-widgets/base",
            "_view_module_version": "1.2.0",
            "_view_name": "LayoutView",
            "align_content": null,
            "align_items": null,
            "align_self": null,
            "border": null,
            "bottom": null,
            "display": null,
            "flex": null,
            "flex_flow": null,
            "grid_area": null,
            "grid_auto_columns": null,
            "grid_auto_flow": null,
            "grid_auto_rows": null,
            "grid_column": null,
            "grid_gap": null,
            "grid_row": null,
            "grid_template_areas": null,
            "grid_template_columns": null,
            "grid_template_rows": null,
            "height": null,
            "justify_content": null,
            "justify_items": null,
            "left": null,
            "margin": null,
            "max_height": null,
            "max_width": null,
            "min_height": null,
            "min_width": null,
            "object_fit": null,
            "object_position": null,
            "order": null,
            "overflow": null,
            "overflow_x": null,
            "overflow_y": null,
            "padding": null,
            "right": null,
            "top": null,
            "visibility": null,
            "width": null
          }
        },
        "ffde0ae862b340e2b33ffe57bce8909d": {
          "model_module": "@jupyter-widgets/controls",
          "model_name": "DescriptionStyleModel",
          "model_module_version": "1.5.0",
          "state": {
            "_model_module": "@jupyter-widgets/controls",
            "_model_module_version": "1.5.0",
            "_model_name": "DescriptionStyleModel",
            "_view_count": null,
            "_view_module": "@jupyter-widgets/base",
            "_view_module_version": "1.2.0",
            "_view_name": "StyleView",
            "description_width": ""
          }
        },
        "1f894e12d21841a1921e6fddd00858e0": {
          "model_module": "@jupyter-widgets/controls",
          "model_name": "TextModel",
          "model_module_version": "1.5.0",
          "state": {
            "_dom_classes": [],
            "_model_module": "@jupyter-widgets/controls",
            "_model_module_version": "1.5.0",
            "_model_name": "TextModel",
            "_view_count": null,
            "_view_module": "@jupyter-widgets/controls",
            "_view_module_version": "1.5.0",
            "_view_name": "TextView",
            "continuous_update": true,
            "description": "Nombres:",
            "description_tooltip": null,
            "disabled": false,
            "layout": "IPY_MODEL_cd84d8f801294f16a1e5483818ce8939",
            "placeholder": "​",
            "style": "IPY_MODEL_3584e77ffbc3466783ee92660aa4272b",
            "value": "jakdsjas"
          }
        },
        "cd84d8f801294f16a1e5483818ce8939": {
          "model_module": "@jupyter-widgets/base",
          "model_name": "LayoutModel",
          "model_module_version": "1.2.0",
          "state": {
            "_model_module": "@jupyter-widgets/base",
            "_model_module_version": "1.2.0",
            "_model_name": "LayoutModel",
            "_view_count": null,
            "_view_module": "@jupyter-widgets/base",
            "_view_module_version": "1.2.0",
            "_view_name": "LayoutView",
            "align_content": null,
            "align_items": null,
            "align_self": null,
            "border": null,
            "bottom": null,
            "display": null,
            "flex": null,
            "flex_flow": null,
            "grid_area": null,
            "grid_auto_columns": null,
            "grid_auto_flow": null,
            "grid_auto_rows": null,
            "grid_column": null,
            "grid_gap": null,
            "grid_row": null,
            "grid_template_areas": null,
            "grid_template_columns": null,
            "grid_template_rows": null,
            "height": null,
            "justify_content": null,
            "justify_items": null,
            "left": null,
            "margin": null,
            "max_height": null,
            "max_width": null,
            "min_height": null,
            "min_width": null,
            "object_fit": null,
            "object_position": null,
            "order": null,
            "overflow": null,
            "overflow_x": null,
            "overflow_y": null,
            "padding": null,
            "right": null,
            "top": null,
            "visibility": null,
            "width": null
          }
        },
        "3584e77ffbc3466783ee92660aa4272b": {
          "model_module": "@jupyter-widgets/controls",
          "model_name": "DescriptionStyleModel",
          "model_module_version": "1.5.0",
          "state": {
            "_model_module": "@jupyter-widgets/controls",
            "_model_module_version": "1.5.0",
            "_model_name": "DescriptionStyleModel",
            "_view_count": null,
            "_view_module": "@jupyter-widgets/base",
            "_view_module_version": "1.2.0",
            "_view_name": "StyleView",
            "description_width": ""
          }
        },
        "6a8cf663030d426b93d8a1247a76aa2c": {
          "model_module": "@jupyter-widgets/controls",
          "model_name": "TextModel",
          "model_module_version": "1.5.0",
          "state": {
            "_dom_classes": [],
            "_model_module": "@jupyter-widgets/controls",
            "_model_module_version": "1.5.0",
            "_model_name": "TextModel",
            "_view_count": null,
            "_view_module": "@jupyter-widgets/controls",
            "_view_module_version": "1.5.0",
            "_view_name": "TextView",
            "continuous_update": true,
            "description": "Horas:",
            "description_tooltip": null,
            "disabled": false,
            "layout": "IPY_MODEL_1f416c5dc73544fe9ed79c69d2307ee6",
            "placeholder": "​",
            "style": "IPY_MODEL_0bc49f8a7e454ee2b4460df5f1b76f05",
            "value": "1561"
          }
        },
        "1f416c5dc73544fe9ed79c69d2307ee6": {
          "model_module": "@jupyter-widgets/base",
          "model_name": "LayoutModel",
          "model_module_version": "1.2.0",
          "state": {
            "_model_module": "@jupyter-widgets/base",
            "_model_module_version": "1.2.0",
            "_model_name": "LayoutModel",
            "_view_count": null,
            "_view_module": "@jupyter-widgets/base",
            "_view_module_version": "1.2.0",
            "_view_name": "LayoutView",
            "align_content": null,
            "align_items": null,
            "align_self": null,
            "border": null,
            "bottom": null,
            "display": null,
            "flex": null,
            "flex_flow": null,
            "grid_area": null,
            "grid_auto_columns": null,
            "grid_auto_flow": null,
            "grid_auto_rows": null,
            "grid_column": null,
            "grid_gap": null,
            "grid_row": null,
            "grid_template_areas": null,
            "grid_template_columns": null,
            "grid_template_rows": null,
            "height": null,
            "justify_content": null,
            "justify_items": null,
            "left": null,
            "margin": null,
            "max_height": null,
            "max_width": null,
            "min_height": null,
            "min_width": null,
            "object_fit": null,
            "object_position": null,
            "order": null,
            "overflow": null,
            "overflow_x": null,
            "overflow_y": null,
            "padding": null,
            "right": null,
            "top": null,
            "visibility": null,
            "width": null
          }
        },
        "0bc49f8a7e454ee2b4460df5f1b76f05": {
          "model_module": "@jupyter-widgets/controls",
          "model_name": "DescriptionStyleModel",
          "model_module_version": "1.5.0",
          "state": {
            "_model_module": "@jupyter-widgets/controls",
            "_model_module_version": "1.5.0",
            "_model_name": "DescriptionStyleModel",
            "_view_count": null,
            "_view_module": "@jupyter-widgets/base",
            "_view_module_version": "1.2.0",
            "_view_name": "StyleView",
            "description_width": ""
          }
        },
        "4720e25fdec24259a00254966537108b": {
          "model_module": "@jupyter-widgets/controls",
          "model_name": "TextModel",
          "model_module_version": "1.5.0",
          "state": {
            "_dom_classes": [],
            "_model_module": "@jupyter-widgets/controls",
            "_model_module_version": "1.5.0",
            "_model_name": "TextModel",
            "_view_count": null,
            "_view_module": "@jupyter-widgets/controls",
            "_view_module_version": "1.5.0",
            "_view_name": "TextView",
            "continuous_update": true,
            "description": "Valor hora:",
            "description_tooltip": null,
            "disabled": false,
            "layout": "IPY_MODEL_ee9ad663466a434ab44cf897b920b1c6",
            "placeholder": "​",
            "style": "IPY_MODEL_2fc3ade85ddb4cd8869d8b9f716e027e",
            "value": "5116"
          }
        },
        "ee9ad663466a434ab44cf897b920b1c6": {
          "model_module": "@jupyter-widgets/base",
          "model_name": "LayoutModel",
          "model_module_version": "1.2.0",
          "state": {
            "_model_module": "@jupyter-widgets/base",
            "_model_module_version": "1.2.0",
            "_model_name": "LayoutModel",
            "_view_count": null,
            "_view_module": "@jupyter-widgets/base",
            "_view_module_version": "1.2.0",
            "_view_name": "LayoutView",
            "align_content": null,
            "align_items": null,
            "align_self": null,
            "border": null,
            "bottom": null,
            "display": null,
            "flex": null,
            "flex_flow": null,
            "grid_area": null,
            "grid_auto_columns": null,
            "grid_auto_flow": null,
            "grid_auto_rows": null,
            "grid_column": null,
            "grid_gap": null,
            "grid_row": null,
            "grid_template_areas": null,
            "grid_template_columns": null,
            "grid_template_rows": null,
            "height": null,
            "justify_content": null,
            "justify_items": null,
            "left": null,
            "margin": null,
            "max_height": null,
            "max_width": null,
            "min_height": null,
            "min_width": null,
            "object_fit": null,
            "object_position": null,
            "order": null,
            "overflow": null,
            "overflow_x": null,
            "overflow_y": null,
            "padding": null,
            "right": null,
            "top": null,
            "visibility": null,
            "width": null
          }
        },
        "2fc3ade85ddb4cd8869d8b9f716e027e": {
          "model_module": "@jupyter-widgets/controls",
          "model_name": "DescriptionStyleModel",
          "model_module_version": "1.5.0",
          "state": {
            "_model_module": "@jupyter-widgets/controls",
            "_model_module_version": "1.5.0",
            "_model_name": "DescriptionStyleModel",
            "_view_count": null,
            "_view_module": "@jupyter-widgets/base",
            "_view_module_version": "1.2.0",
            "_view_name": "StyleView",
            "description_width": ""
          }
        },
        "9513a695b5c8427a94203b4d89bdb36d": {
          "model_module": "@jupyter-widgets/controls",
          "model_name": "TextModel",
          "model_module_version": "1.5.0",
          "state": {
            "_dom_classes": [],
            "_model_module": "@jupyter-widgets/controls",
            "_model_module_version": "1.5.0",
            "_model_name": "TextModel",
            "_view_count": null,
            "_view_module": "@jupyter-widgets/controls",
            "_view_module_version": "1.5.0",
            "_view_name": "TextView",
            "continuous_update": true,
            "description": "Retención (%):",
            "description_tooltip": null,
            "disabled": false,
            "layout": "IPY_MODEL_00818e3cbe994297ae6e9658fdd40910",
            "placeholder": "​",
            "style": "IPY_MODEL_9384a50b65b34bebbf170d840dc70b9a",
            "value": "12"
          }
        },
        "00818e3cbe994297ae6e9658fdd40910": {
          "model_module": "@jupyter-widgets/base",
          "model_name": "LayoutModel",
          "model_module_version": "1.2.0",
          "state": {
            "_model_module": "@jupyter-widgets/base",
            "_model_module_version": "1.2.0",
            "_model_name": "LayoutModel",
            "_view_count": null,
            "_view_module": "@jupyter-widgets/base",
            "_view_module_version": "1.2.0",
            "_view_name": "LayoutView",
            "align_content": null,
            "align_items": null,
            "align_self": null,
            "border": null,
            "bottom": null,
            "display": null,
            "flex": null,
            "flex_flow": null,
            "grid_area": null,
            "grid_auto_columns": null,
            "grid_auto_flow": null,
            "grid_auto_rows": null,
            "grid_column": null,
            "grid_gap": null,
            "grid_row": null,
            "grid_template_areas": null,
            "grid_template_columns": null,
            "grid_template_rows": null,
            "height": null,
            "justify_content": null,
            "justify_items": null,
            "left": null,
            "margin": null,
            "max_height": null,
            "max_width": null,
            "min_height": null,
            "min_width": null,
            "object_fit": null,
            "object_position": null,
            "order": null,
            "overflow": null,
            "overflow_x": null,
            "overflow_y": null,
            "padding": null,
            "right": null,
            "top": null,
            "visibility": null,
            "width": null
          }
        },
        "9384a50b65b34bebbf170d840dc70b9a": {
          "model_module": "@jupyter-widgets/controls",
          "model_name": "DescriptionStyleModel",
          "model_module_version": "1.5.0",
          "state": {
            "_model_module": "@jupyter-widgets/controls",
            "_model_module_version": "1.5.0",
            "_model_name": "DescriptionStyleModel",
            "_view_count": null,
            "_view_module": "@jupyter-widgets/base",
            "_view_module_version": "1.2.0",
            "_view_name": "StyleView",
            "description_width": ""
          }
        },
        "f3fd441265f2467a8348e374ceb7ac63": {
          "model_module": "@jupyter-widgets/controls",
          "model_name": "ButtonModel",
          "model_module_version": "1.5.0",
          "state": {
            "_dom_classes": [],
            "_model_module": "@jupyter-widgets/controls",
            "_model_module_version": "1.5.0",
            "_model_name": "ButtonModel",
            "_view_count": null,
            "_view_module": "@jupyter-widgets/controls",
            "_view_module_version": "1.5.0",
            "_view_name": "ButtonView",
            "button_style": "",
            "description": "Calcular",
            "disabled": false,
            "icon": "",
            "layout": "IPY_MODEL_138c317f6a2c432683d6e207f66f2d7c",
            "style": "IPY_MODEL_53131488caba4617bb97ac9a5af10d57",
            "tooltip": ""
          }
        },
        "138c317f6a2c432683d6e207f66f2d7c": {
          "model_module": "@jupyter-widgets/base",
          "model_name": "LayoutModel",
          "model_module_version": "1.2.0",
          "state": {
            "_model_module": "@jupyter-widgets/base",
            "_model_module_version": "1.2.0",
            "_model_name": "LayoutModel",
            "_view_count": null,
            "_view_module": "@jupyter-widgets/base",
            "_view_module_version": "1.2.0",
            "_view_name": "LayoutView",
            "align_content": null,
            "align_items": null,
            "align_self": null,
            "border": null,
            "bottom": null,
            "display": null,
            "flex": null,
            "flex_flow": null,
            "grid_area": null,
            "grid_auto_columns": null,
            "grid_auto_flow": null,
            "grid_auto_rows": null,
            "grid_column": null,
            "grid_gap": null,
            "grid_row": null,
            "grid_template_areas": null,
            "grid_template_columns": null,
            "grid_template_rows": null,
            "height": null,
            "justify_content": null,
            "justify_items": null,
            "left": null,
            "margin": null,
            "max_height": null,
            "max_width": null,
            "min_height": null,
            "min_width": null,
            "object_fit": null,
            "object_position": null,
            "order": null,
            "overflow": null,
            "overflow_x": null,
            "overflow_y": null,
            "padding": null,
            "right": null,
            "top": null,
            "visibility": null,
            "width": null
          }
        },
        "53131488caba4617bb97ac9a5af10d57": {
          "model_module": "@jupyter-widgets/controls",
          "model_name": "ButtonStyleModel",
          "model_module_version": "1.5.0",
          "state": {
            "_model_module": "@jupyter-widgets/controls",
            "_model_module_version": "1.5.0",
            "_model_name": "ButtonStyleModel",
            "_view_count": null,
            "_view_module": "@jupyter-widgets/base",
            "_view_module_version": "1.2.0",
            "_view_name": "StyleView",
            "button_color": null,
            "font_weight": ""
          }
        },
        "e43534bc3386465abd812965764b697a": {
          "model_module": "@jupyter-widgets/output",
          "model_name": "OutputModel",
          "model_module_version": "1.0.0",
          "state": {
            "_dom_classes": [],
            "_model_module": "@jupyter-widgets/output",
            "_model_module_version": "1.0.0",
            "_model_name": "OutputModel",
            "_view_count": null,
            "_view_module": "@jupyter-widgets/output",
            "_view_module_version": "1.0.0",
            "_view_name": "OutputView",
            "layout": "IPY_MODEL_d6f2ad12545c4ce49e4575c674593220",
            "msg_id": "",
            "outputs": [
              {
                "output_type": "stream",
                "name": "stdout",
                "text": [
                  "Código: 13216\n",
                  "Nombres: jakdsjas\n",
                  "Salario Bruto: $7986076.00\n",
                  "Salario Neto: $7027746.88\n"
                ]
              }
            ]
          }
        },
        "d6f2ad12545c4ce49e4575c674593220": {
          "model_module": "@jupyter-widgets/base",
          "model_name": "LayoutModel",
          "model_module_version": "1.2.0",
          "state": {
            "_model_module": "@jupyter-widgets/base",
            "_model_module_version": "1.2.0",
            "_model_name": "LayoutModel",
            "_view_count": null,
            "_view_module": "@jupyter-widgets/base",
            "_view_module_version": "1.2.0",
            "_view_name": "LayoutView",
            "align_content": null,
            "align_items": null,
            "align_self": null,
            "border": null,
            "bottom": null,
            "display": null,
            "flex": null,
            "flex_flow": null,
            "grid_area": null,
            "grid_auto_columns": null,
            "grid_auto_flow": null,
            "grid_auto_rows": null,
            "grid_column": null,
            "grid_gap": null,
            "grid_row": null,
            "grid_template_areas": null,
            "grid_template_columns": null,
            "grid_template_rows": null,
            "height": null,
            "justify_content": null,
            "justify_items": null,
            "left": null,
            "margin": null,
            "max_height": null,
            "max_width": null,
            "min_height": null,
            "min_width": null,
            "object_fit": null,
            "object_position": null,
            "order": null,
            "overflow": null,
            "overflow_x": null,
            "overflow_y": null,
            "padding": null,
            "right": null,
            "top": null,
            "visibility": null,
            "width": null
          }
        },
        "06cc2073aaa9463eabedf7685c56067d": {
          "model_module": "@jupyter-widgets/controls",
          "model_name": "TextModel",
          "model_module_version": "1.5.0",
          "state": {
            "_dom_classes": [],
            "_model_module": "@jupyter-widgets/controls",
            "_model_module_version": "1.5.0",
            "_model_name": "TextModel",
            "_view_count": null,
            "_view_module": "@jupyter-widgets/controls",
            "_view_module_version": "1.5.0",
            "_view_name": "TextView",
            "continuous_update": true,
            "description": "Lado:",
            "description_tooltip": null,
            "disabled": false,
            "layout": "IPY_MODEL_56de5edf03ce4e3bad77acde39e39aef",
            "placeholder": "Ingrese el lado",
            "style": "IPY_MODEL_2900e1323f6446b0a6bacfef80b95b89",
            "value": "15"
          }
        },
        "56de5edf03ce4e3bad77acde39e39aef": {
          "model_module": "@jupyter-widgets/base",
          "model_name": "LayoutModel",
          "model_module_version": "1.2.0",
          "state": {
            "_model_module": "@jupyter-widgets/base",
            "_model_module_version": "1.2.0",
            "_model_name": "LayoutModel",
            "_view_count": null,
            "_view_module": "@jupyter-widgets/base",
            "_view_module_version": "1.2.0",
            "_view_name": "LayoutView",
            "align_content": null,
            "align_items": null,
            "align_self": null,
            "border": null,
            "bottom": null,
            "display": null,
            "flex": null,
            "flex_flow": null,
            "grid_area": null,
            "grid_auto_columns": null,
            "grid_auto_flow": null,
            "grid_auto_rows": null,
            "grid_column": null,
            "grid_gap": null,
            "grid_row": null,
            "grid_template_areas": null,
            "grid_template_columns": null,
            "grid_template_rows": null,
            "height": null,
            "justify_content": null,
            "justify_items": null,
            "left": null,
            "margin": null,
            "max_height": null,
            "max_width": null,
            "min_height": null,
            "min_width": null,
            "object_fit": null,
            "object_position": null,
            "order": null,
            "overflow": null,
            "overflow_x": null,
            "overflow_y": null,
            "padding": null,
            "right": null,
            "top": null,
            "visibility": null,
            "width": null
          }
        },
        "2900e1323f6446b0a6bacfef80b95b89": {
          "model_module": "@jupyter-widgets/controls",
          "model_name": "DescriptionStyleModel",
          "model_module_version": "1.5.0",
          "state": {
            "_model_module": "@jupyter-widgets/controls",
            "_model_module_version": "1.5.0",
            "_model_name": "DescriptionStyleModel",
            "_view_count": null,
            "_view_module": "@jupyter-widgets/base",
            "_view_module_version": "1.2.0",
            "_view_name": "StyleView",
            "description_width": ""
          }
        },
        "0be5e843edc9488fb9d47b19cf496e89": {
          "model_module": "@jupyter-widgets/controls",
          "model_name": "ButtonModel",
          "model_module_version": "1.5.0",
          "state": {
            "_dom_classes": [],
            "_model_module": "@jupyter-widgets/controls",
            "_model_module_version": "1.5.0",
            "_model_name": "ButtonModel",
            "_view_count": null,
            "_view_module": "@jupyter-widgets/controls",
            "_view_module_version": "1.5.0",
            "_view_name": "ButtonView",
            "button_style": "success",
            "description": "Calcular",
            "disabled": false,
            "icon": "",
            "layout": "IPY_MODEL_49acd8abea1b4bc6bffed6a8c3c22be2",
            "style": "IPY_MODEL_a6157f2c8ba4408c8cdc9876be44c65d",
            "tooltip": ""
          }
        },
        "49acd8abea1b4bc6bffed6a8c3c22be2": {
          "model_module": "@jupyter-widgets/base",
          "model_name": "LayoutModel",
          "model_module_version": "1.2.0",
          "state": {
            "_model_module": "@jupyter-widgets/base",
            "_model_module_version": "1.2.0",
            "_model_name": "LayoutModel",
            "_view_count": null,
            "_view_module": "@jupyter-widgets/base",
            "_view_module_version": "1.2.0",
            "_view_name": "LayoutView",
            "align_content": null,
            "align_items": null,
            "align_self": null,
            "border": null,
            "bottom": null,
            "display": null,
            "flex": null,
            "flex_flow": null,
            "grid_area": null,
            "grid_auto_columns": null,
            "grid_auto_flow": null,
            "grid_auto_rows": null,
            "grid_column": null,
            "grid_gap": null,
            "grid_row": null,
            "grid_template_areas": null,
            "grid_template_columns": null,
            "grid_template_rows": null,
            "height": null,
            "justify_content": null,
            "justify_items": null,
            "left": null,
            "margin": null,
            "max_height": null,
            "max_width": null,
            "min_height": null,
            "min_width": null,
            "object_fit": null,
            "object_position": null,
            "order": null,
            "overflow": null,
            "overflow_x": null,
            "overflow_y": null,
            "padding": null,
            "right": null,
            "top": null,
            "visibility": null,
            "width": null
          }
        },
        "a6157f2c8ba4408c8cdc9876be44c65d": {
          "model_module": "@jupyter-widgets/controls",
          "model_name": "ButtonStyleModel",
          "model_module_version": "1.5.0",
          "state": {
            "_model_module": "@jupyter-widgets/controls",
            "_model_module_version": "1.5.0",
            "_model_name": "ButtonStyleModel",
            "_view_count": null,
            "_view_module": "@jupyter-widgets/base",
            "_view_module_version": "1.2.0",
            "_view_name": "StyleView",
            "button_color": null,
            "font_weight": ""
          }
        },
        "4d60b318656c4a34b3ee6cb04f0905d0": {
          "model_module": "@jupyter-widgets/output",
          "model_name": "OutputModel",
          "model_module_version": "1.0.0",
          "state": {
            "_dom_classes": [],
            "_model_module": "@jupyter-widgets/output",
            "_model_module_version": "1.0.0",
            "_model_name": "OutputModel",
            "_view_count": null,
            "_view_module": "@jupyter-widgets/output",
            "_view_module_version": "1.0.0",
            "_view_name": "OutputView",
            "layout": "IPY_MODEL_0992d484118b41cb8aa312bce97eb5d1",
            "msg_id": "",
            "outputs": [
              {
                "output_type": "stream",
                "name": "stdout",
                "text": [
                  "Área: 97.43\n",
                  "Perímetro: 45.00\n",
                  "Altura: 12.99\n"
                ]
              }
            ]
          }
        },
        "0992d484118b41cb8aa312bce97eb5d1": {
          "model_module": "@jupyter-widgets/base",
          "model_name": "LayoutModel",
          "model_module_version": "1.2.0",
          "state": {
            "_model_module": "@jupyter-widgets/base",
            "_model_module_version": "1.2.0",
            "_model_name": "LayoutModel",
            "_view_count": null,
            "_view_module": "@jupyter-widgets/base",
            "_view_module_version": "1.2.0",
            "_view_name": "LayoutView",
            "align_content": null,
            "align_items": null,
            "align_self": null,
            "border": null,
            "bottom": null,
            "display": null,
            "flex": null,
            "flex_flow": null,
            "grid_area": null,
            "grid_auto_columns": null,
            "grid_auto_flow": null,
            "grid_auto_rows": null,
            "grid_column": null,
            "grid_gap": null,
            "grid_row": null,
            "grid_template_areas": null,
            "grid_template_columns": null,
            "grid_template_rows": null,
            "height": null,
            "justify_content": null,
            "justify_items": null,
            "left": null,
            "margin": null,
            "max_height": null,
            "max_width": null,
            "min_height": null,
            "min_width": null,
            "object_fit": null,
            "object_position": null,
            "order": null,
            "overflow": null,
            "overflow_x": null,
            "overflow_y": null,
            "padding": null,
            "right": null,
            "top": null,
            "visibility": null,
            "width": null
          }
        },
        "c051cf2d09794ac988a1d8ee5ad07768": {
          "model_module": "@jupyter-widgets/controls",
          "model_name": "TextModel",
          "model_module_version": "1.5.0",
          "state": {
            "_dom_classes": [],
            "_model_module": "@jupyter-widgets/controls",
            "_model_module_version": "1.5.0",
            "_model_name": "TextModel",
            "_view_count": null,
            "_view_module": "@jupyter-widgets/controls",
            "_view_module_version": "1.5.0",
            "_view_name": "TextView",
            "continuous_update": true,
            "description": "A:",
            "description_tooltip": null,
            "disabled": false,
            "layout": "IPY_MODEL_7091b66cdcad4432ba6748c6bab31bde",
            "placeholder": "Ingrese un número",
            "style": "IPY_MODEL_881b92176c1040e5997faa7f03d9ecd0",
            "value": "15"
          }
        },
        "7091b66cdcad4432ba6748c6bab31bde": {
          "model_module": "@jupyter-widgets/base",
          "model_name": "LayoutModel",
          "model_module_version": "1.2.0",
          "state": {
            "_model_module": "@jupyter-widgets/base",
            "_model_module_version": "1.2.0",
            "_model_name": "LayoutModel",
            "_view_count": null,
            "_view_module": "@jupyter-widgets/base",
            "_view_module_version": "1.2.0",
            "_view_name": "LayoutView",
            "align_content": null,
            "align_items": null,
            "align_self": null,
            "border": null,
            "bottom": null,
            "display": null,
            "flex": null,
            "flex_flow": null,
            "grid_area": null,
            "grid_auto_columns": null,
            "grid_auto_flow": null,
            "grid_auto_rows": null,
            "grid_column": null,
            "grid_gap": null,
            "grid_row": null,
            "grid_template_areas": null,
            "grid_template_columns": null,
            "grid_template_rows": null,
            "height": null,
            "justify_content": null,
            "justify_items": null,
            "left": null,
            "margin": null,
            "max_height": null,
            "max_width": null,
            "min_height": null,
            "min_width": null,
            "object_fit": null,
            "object_position": null,
            "order": null,
            "overflow": null,
            "overflow_x": null,
            "overflow_y": null,
            "padding": null,
            "right": null,
            "top": null,
            "visibility": null,
            "width": null
          }
        },
        "881b92176c1040e5997faa7f03d9ecd0": {
          "model_module": "@jupyter-widgets/controls",
          "model_name": "DescriptionStyleModel",
          "model_module_version": "1.5.0",
          "state": {
            "_model_module": "@jupyter-widgets/controls",
            "_model_module_version": "1.5.0",
            "_model_name": "DescriptionStyleModel",
            "_view_count": null,
            "_view_module": "@jupyter-widgets/base",
            "_view_module_version": "1.2.0",
            "_view_name": "StyleView",
            "description_width": ""
          }
        },
        "7146295657af4a0484b6dbc6d994e60b": {
          "model_module": "@jupyter-widgets/controls",
          "model_name": "TextModel",
          "model_module_version": "1.5.0",
          "state": {
            "_dom_classes": [],
            "_model_module": "@jupyter-widgets/controls",
            "_model_module_version": "1.5.0",
            "_model_name": "TextModel",
            "_view_count": null,
            "_view_module": "@jupyter-widgets/controls",
            "_view_module_version": "1.5.0",
            "_view_name": "TextView",
            "continuous_update": true,
            "description": "B:",
            "description_tooltip": null,
            "disabled": false,
            "layout": "IPY_MODEL_11ef04f994b24e55a967fdcae455d02f",
            "placeholder": "Ingrese un número",
            "style": "IPY_MODEL_c4b11187b88e4b8dbd551ceb0ea237c2",
            "value": "15"
          }
        },
        "11ef04f994b24e55a967fdcae455d02f": {
          "model_module": "@jupyter-widgets/base",
          "model_name": "LayoutModel",
          "model_module_version": "1.2.0",
          "state": {
            "_model_module": "@jupyter-widgets/base",
            "_model_module_version": "1.2.0",
            "_model_name": "LayoutModel",
            "_view_count": null,
            "_view_module": "@jupyter-widgets/base",
            "_view_module_version": "1.2.0",
            "_view_name": "LayoutView",
            "align_content": null,
            "align_items": null,
            "align_self": null,
            "border": null,
            "bottom": null,
            "display": null,
            "flex": null,
            "flex_flow": null,
            "grid_area": null,
            "grid_auto_columns": null,
            "grid_auto_flow": null,
            "grid_auto_rows": null,
            "grid_column": null,
            "grid_gap": null,
            "grid_row": null,
            "grid_template_areas": null,
            "grid_template_columns": null,
            "grid_template_rows": null,
            "height": null,
            "justify_content": null,
            "justify_items": null,
            "left": null,
            "margin": null,
            "max_height": null,
            "max_width": null,
            "min_height": null,
            "min_width": null,
            "object_fit": null,
            "object_position": null,
            "order": null,
            "overflow": null,
            "overflow_x": null,
            "overflow_y": null,
            "padding": null,
            "right": null,
            "top": null,
            "visibility": null,
            "width": null
          }
        },
        "c4b11187b88e4b8dbd551ceb0ea237c2": {
          "model_module": "@jupyter-widgets/controls",
          "model_name": "DescriptionStyleModel",
          "model_module_version": "1.5.0",
          "state": {
            "_model_module": "@jupyter-widgets/controls",
            "_model_module_version": "1.5.0",
            "_model_name": "DescriptionStyleModel",
            "_view_count": null,
            "_view_module": "@jupyter-widgets/base",
            "_view_module_version": "1.2.0",
            "_view_name": "StyleView",
            "description_width": ""
          }
        },
        "325a0bf829894230a217bd2436946038": {
          "model_module": "@jupyter-widgets/controls",
          "model_name": "ButtonModel",
          "model_module_version": "1.5.0",
          "state": {
            "_dom_classes": [],
            "_model_module": "@jupyter-widgets/controls",
            "_model_module_version": "1.5.0",
            "_model_name": "ButtonModel",
            "_view_count": null,
            "_view_module": "@jupyter-widgets/controls",
            "_view_module_version": "1.5.0",
            "_view_name": "ButtonView",
            "button_style": "success",
            "description": "Comparar",
            "disabled": false,
            "icon": "",
            "layout": "IPY_MODEL_246d72a2e67b4d0d937068d45d92ef85",
            "style": "IPY_MODEL_58e357f432bb477990f1c6ff318e70dd",
            "tooltip": ""
          }
        },
        "246d72a2e67b4d0d937068d45d92ef85": {
          "model_module": "@jupyter-widgets/base",
          "model_name": "LayoutModel",
          "model_module_version": "1.2.0",
          "state": {
            "_model_module": "@jupyter-widgets/base",
            "_model_module_version": "1.2.0",
            "_model_name": "LayoutModel",
            "_view_count": null,
            "_view_module": "@jupyter-widgets/base",
            "_view_module_version": "1.2.0",
            "_view_name": "LayoutView",
            "align_content": null,
            "align_items": null,
            "align_self": null,
            "border": null,
            "bottom": null,
            "display": null,
            "flex": null,
            "flex_flow": null,
            "grid_area": null,
            "grid_auto_columns": null,
            "grid_auto_flow": null,
            "grid_auto_rows": null,
            "grid_column": null,
            "grid_gap": null,
            "grid_row": null,
            "grid_template_areas": null,
            "grid_template_columns": null,
            "grid_template_rows": null,
            "height": null,
            "justify_content": null,
            "justify_items": null,
            "left": null,
            "margin": null,
            "max_height": null,
            "max_width": null,
            "min_height": null,
            "min_width": null,
            "object_fit": null,
            "object_position": null,
            "order": null,
            "overflow": null,
            "overflow_x": null,
            "overflow_y": null,
            "padding": null,
            "right": null,
            "top": null,
            "visibility": null,
            "width": null
          }
        },
        "58e357f432bb477990f1c6ff318e70dd": {
          "model_module": "@jupyter-widgets/controls",
          "model_name": "ButtonStyleModel",
          "model_module_version": "1.5.0",
          "state": {
            "_model_module": "@jupyter-widgets/controls",
            "_model_module_version": "1.5.0",
            "_model_name": "ButtonStyleModel",
            "_view_count": null,
            "_view_module": "@jupyter-widgets/base",
            "_view_module_version": "1.2.0",
            "_view_name": "StyleView",
            "button_color": null,
            "font_weight": ""
          }
        },
        "cdb30d8a011747b4ba9c37edddf32f81": {
          "model_module": "@jupyter-widgets/output",
          "model_name": "OutputModel",
          "model_module_version": "1.0.0",
          "state": {
            "_dom_classes": [],
            "_model_module": "@jupyter-widgets/output",
            "_model_module_version": "1.0.0",
            "_model_name": "OutputModel",
            "_view_count": null,
            "_view_module": "@jupyter-widgets/output",
            "_view_module_version": "1.0.0",
            "_view_name": "OutputView",
            "layout": "IPY_MODEL_1c472ea35c7e4cabb2cdcd46b33625f6",
            "msg_id": "",
            "outputs": [
              {
                "output_type": "stream",
                "name": "stdout",
                "text": [
                  "A (15.0) es igual a B (15.0)\n"
                ]
              }
            ]
          }
        },
        "1c472ea35c7e4cabb2cdcd46b33625f6": {
          "model_module": "@jupyter-widgets/base",
          "model_name": "LayoutModel",
          "model_module_version": "1.2.0",
          "state": {
            "_model_module": "@jupyter-widgets/base",
            "_model_module_version": "1.2.0",
            "_model_name": "LayoutModel",
            "_view_count": null,
            "_view_module": "@jupyter-widgets/base",
            "_view_module_version": "1.2.0",
            "_view_name": "LayoutView",
            "align_content": null,
            "align_items": null,
            "align_self": null,
            "border": null,
            "bottom": null,
            "display": null,
            "flex": null,
            "flex_flow": null,
            "grid_area": null,
            "grid_auto_columns": null,
            "grid_auto_flow": null,
            "grid_auto_rows": null,
            "grid_column": null,
            "grid_gap": null,
            "grid_row": null,
            "grid_template_areas": null,
            "grid_template_columns": null,
            "grid_template_rows": null,
            "height": null,
            "justify_content": null,
            "justify_items": null,
            "left": null,
            "margin": null,
            "max_height": null,
            "max_width": null,
            "min_height": null,
            "min_width": null,
            "object_fit": null,
            "object_position": null,
            "order": null,
            "overflow": null,
            "overflow_x": null,
            "overflow_y": null,
            "padding": null,
            "right": null,
            "top": null,
            "visibility": null,
            "width": null
          }
        },
        "dcd00470f7d44196bf63583af57ac87b": {
          "model_module": "@jupyter-widgets/controls",
          "model_name": "TextModel",
          "model_module_version": "1.5.0",
          "state": {
            "_dom_classes": [],
            "_model_module": "@jupyter-widgets/controls",
            "_model_module_version": "1.5.0",
            "_model_name": "TextModel",
            "_view_count": null,
            "_view_module": "@jupyter-widgets/controls",
            "_view_module_version": "1.5.0",
            "_view_name": "TextView",
            "continuous_update": true,
            "description": "Inscripción:",
            "description_tooltip": null,
            "disabled": false,
            "layout": "IPY_MODEL_07a09da67eef441ea0c156c96c217f06",
            "placeholder": "Ingrese el número",
            "style": "IPY_MODEL_c93ad849767a44f0a4fdd8f38f139fe9",
            "value": "1325"
          }
        },
        "07a09da67eef441ea0c156c96c217f06": {
          "model_module": "@jupyter-widgets/base",
          "model_name": "LayoutModel",
          "model_module_version": "1.2.0",
          "state": {
            "_model_module": "@jupyter-widgets/base",
            "_model_module_version": "1.2.0",
            "_model_name": "LayoutModel",
            "_view_count": null,
            "_view_module": "@jupyter-widgets/base",
            "_view_module_version": "1.2.0",
            "_view_name": "LayoutView",
            "align_content": null,
            "align_items": null,
            "align_self": null,
            "border": null,
            "bottom": null,
            "display": null,
            "flex": null,
            "flex_flow": null,
            "grid_area": null,
            "grid_auto_columns": null,
            "grid_auto_flow": null,
            "grid_auto_rows": null,
            "grid_column": null,
            "grid_gap": null,
            "grid_row": null,
            "grid_template_areas": null,
            "grid_template_columns": null,
            "grid_template_rows": null,
            "height": null,
            "justify_content": null,
            "justify_items": null,
            "left": null,
            "margin": null,
            "max_height": null,
            "max_width": null,
            "min_height": null,
            "min_width": null,
            "object_fit": null,
            "object_position": null,
            "order": null,
            "overflow": null,
            "overflow_x": null,
            "overflow_y": null,
            "padding": null,
            "right": null,
            "top": null,
            "visibility": null,
            "width": null
          }
        },
        "c93ad849767a44f0a4fdd8f38f139fe9": {
          "model_module": "@jupyter-widgets/controls",
          "model_name": "DescriptionStyleModel",
          "model_module_version": "1.5.0",
          "state": {
            "_model_module": "@jupyter-widgets/controls",
            "_model_module_version": "1.5.0",
            "_model_name": "DescriptionStyleModel",
            "_view_count": null,
            "_view_module": "@jupyter-widgets/base",
            "_view_module_version": "1.2.0",
            "_view_name": "StyleView",
            "description_width": ""
          }
        },
        "b7546242127e4c918fd3f25c3e864626": {
          "model_module": "@jupyter-widgets/controls",
          "model_name": "TextModel",
          "model_module_version": "1.5.0",
          "state": {
            "_dom_classes": [],
            "_model_module": "@jupyter-widgets/controls",
            "_model_module_version": "1.5.0",
            "_model_name": "TextModel",
            "_view_count": null,
            "_view_module": "@jupyter-widgets/controls",
            "_view_module_version": "1.5.0",
            "_view_name": "TextView",
            "continuous_update": true,
            "description": "Nombres:",
            "description_tooltip": null,
            "disabled": false,
            "layout": "IPY_MODEL_148e2eb8b61546b89eaa62a4b5c80827",
            "placeholder": "Ingrese los nombres",
            "style": "IPY_MODEL_eb3173753fe14b3687f09385a9dee524",
            "value": "Juan"
          }
        },
        "148e2eb8b61546b89eaa62a4b5c80827": {
          "model_module": "@jupyter-widgets/base",
          "model_name": "LayoutModel",
          "model_module_version": "1.2.0",
          "state": {
            "_model_module": "@jupyter-widgets/base",
            "_model_module_version": "1.2.0",
            "_model_name": "LayoutModel",
            "_view_count": null,
            "_view_module": "@jupyter-widgets/base",
            "_view_module_version": "1.2.0",
            "_view_name": "LayoutView",
            "align_content": null,
            "align_items": null,
            "align_self": null,
            "border": null,
            "bottom": null,
            "display": null,
            "flex": null,
            "flex_flow": null,
            "grid_area": null,
            "grid_auto_columns": null,
            "grid_auto_flow": null,
            "grid_auto_rows": null,
            "grid_column": null,
            "grid_gap": null,
            "grid_row": null,
            "grid_template_areas": null,
            "grid_template_columns": null,
            "grid_template_rows": null,
            "height": null,
            "justify_content": null,
            "justify_items": null,
            "left": null,
            "margin": null,
            "max_height": null,
            "max_width": null,
            "min_height": null,
            "min_width": null,
            "object_fit": null,
            "object_position": null,
            "order": null,
            "overflow": null,
            "overflow_x": null,
            "overflow_y": null,
            "padding": null,
            "right": null,
            "top": null,
            "visibility": null,
            "width": null
          }
        },
        "eb3173753fe14b3687f09385a9dee524": {
          "model_module": "@jupyter-widgets/controls",
          "model_name": "DescriptionStyleModel",
          "model_module_version": "1.5.0",
          "state": {
            "_model_module": "@jupyter-widgets/controls",
            "_model_module_version": "1.5.0",
            "_model_name": "DescriptionStyleModel",
            "_view_count": null,
            "_view_module": "@jupyter-widgets/base",
            "_view_module_version": "1.2.0",
            "_view_name": "StyleView",
            "description_width": ""
          }
        },
        "aa7c819d7da148829e9fa87b3c6a5c22": {
          "model_module": "@jupyter-widgets/controls",
          "model_name": "TextModel",
          "model_module_version": "1.5.0",
          "state": {
            "_dom_classes": [],
            "_model_module": "@jupyter-widgets/controls",
            "_model_module_version": "1.5.0",
            "_model_name": "TextModel",
            "_view_count": null,
            "_view_module": "@jupyter-widgets/controls",
            "_view_module_version": "1.5.0",
            "_view_name": "TextView",
            "continuous_update": true,
            "description": "Patrimonio:",
            "description_tooltip": null,
            "disabled": false,
            "layout": "IPY_MODEL_30bbf00e7ba249e2b70e4db9cf011520",
            "placeholder": "Ingrese el patrimonio",
            "style": "IPY_MODEL_092255fab6554da7bf82df667cc5f4c8",
            "value": "7000000"
          }
        },
        "30bbf00e7ba249e2b70e4db9cf011520": {
          "model_module": "@jupyter-widgets/base",
          "model_name": "LayoutModel",
          "model_module_version": "1.2.0",
          "state": {
            "_model_module": "@jupyter-widgets/base",
            "_model_module_version": "1.2.0",
            "_model_name": "LayoutModel",
            "_view_count": null,
            "_view_module": "@jupyter-widgets/base",
            "_view_module_version": "1.2.0",
            "_view_name": "LayoutView",
            "align_content": null,
            "align_items": null,
            "align_self": null,
            "border": null,
            "bottom": null,
            "display": null,
            "flex": null,
            "flex_flow": null,
            "grid_area": null,
            "grid_auto_columns": null,
            "grid_auto_flow": null,
            "grid_auto_rows": null,
            "grid_column": null,
            "grid_gap": null,
            "grid_row": null,
            "grid_template_areas": null,
            "grid_template_columns": null,
            "grid_template_rows": null,
            "height": null,
            "justify_content": null,
            "justify_items": null,
            "left": null,
            "margin": null,
            "max_height": null,
            "max_width": null,
            "min_height": null,
            "min_width": null,
            "object_fit": null,
            "object_position": null,
            "order": null,
            "overflow": null,
            "overflow_x": null,
            "overflow_y": null,
            "padding": null,
            "right": null,
            "top": null,
            "visibility": null,
            "width": null
          }
        },
        "092255fab6554da7bf82df667cc5f4c8": {
          "model_module": "@jupyter-widgets/controls",
          "model_name": "DescriptionStyleModel",
          "model_module_version": "1.5.0",
          "state": {
            "_model_module": "@jupyter-widgets/controls",
            "_model_module_version": "1.5.0",
            "_model_name": "DescriptionStyleModel",
            "_view_count": null,
            "_view_module": "@jupyter-widgets/base",
            "_view_module_version": "1.2.0",
            "_view_name": "StyleView",
            "description_width": ""
          }
        },
        "077d6c5ddde9470fb31be935e10ae4ce": {
          "model_module": "@jupyter-widgets/controls",
          "model_name": "TextModel",
          "model_module_version": "1.5.0",
          "state": {
            "_dom_classes": [],
            "_model_module": "@jupyter-widgets/controls",
            "_model_module_version": "1.5.0",
            "_model_name": "TextModel",
            "_view_count": null,
            "_view_module": "@jupyter-widgets/controls",
            "_view_module_version": "1.5.0",
            "_view_name": "TextView",
            "continuous_update": true,
            "description": "Estrato:",
            "description_tooltip": null,
            "disabled": false,
            "layout": "IPY_MODEL_f0c6d4f697064184871d72ed139f27ee",
            "placeholder": "Ingrese el estrato social",
            "style": "IPY_MODEL_a2b0747a4a8a492ea9528dce167eab9c",
            "value": "3"
          }
        },
        "f0c6d4f697064184871d72ed139f27ee": {
          "model_module": "@jupyter-widgets/base",
          "model_name": "LayoutModel",
          "model_module_version": "1.2.0",
          "state": {
            "_model_module": "@jupyter-widgets/base",
            "_model_module_version": "1.2.0",
            "_model_name": "LayoutModel",
            "_view_count": null,
            "_view_module": "@jupyter-widgets/base",
            "_view_module_version": "1.2.0",
            "_view_name": "LayoutView",
            "align_content": null,
            "align_items": null,
            "align_self": null,
            "border": null,
            "bottom": null,
            "display": null,
            "flex": null,
            "flex_flow": null,
            "grid_area": null,
            "grid_auto_columns": null,
            "grid_auto_flow": null,
            "grid_auto_rows": null,
            "grid_column": null,
            "grid_gap": null,
            "grid_row": null,
            "grid_template_areas": null,
            "grid_template_columns": null,
            "grid_template_rows": null,
            "height": null,
            "justify_content": null,
            "justify_items": null,
            "left": null,
            "margin": null,
            "max_height": null,
            "max_width": null,
            "min_height": null,
            "min_width": null,
            "object_fit": null,
            "object_position": null,
            "order": null,
            "overflow": null,
            "overflow_x": null,
            "overflow_y": null,
            "padding": null,
            "right": null,
            "top": null,
            "visibility": null,
            "width": null
          }
        },
        "a2b0747a4a8a492ea9528dce167eab9c": {
          "model_module": "@jupyter-widgets/controls",
          "model_name": "DescriptionStyleModel",
          "model_module_version": "1.5.0",
          "state": {
            "_model_module": "@jupyter-widgets/controls",
            "_model_module_version": "1.5.0",
            "_model_name": "DescriptionStyleModel",
            "_view_count": null,
            "_view_module": "@jupyter-widgets/base",
            "_view_module_version": "1.2.0",
            "_view_name": "StyleView",
            "description_width": ""
          }
        },
        "ca857c0dccc2447096ea095746284c68": {
          "model_module": "@jupyter-widgets/controls",
          "model_name": "ButtonModel",
          "model_module_version": "1.5.0",
          "state": {
            "_dom_classes": [],
            "_model_module": "@jupyter-widgets/controls",
            "_model_module_version": "1.5.0",
            "_model_name": "ButtonModel",
            "_view_count": null,
            "_view_module": "@jupyter-widgets/controls",
            "_view_module_version": "1.5.0",
            "_view_name": "ButtonView",
            "button_style": "success",
            "description": "Calcular Matrícula",
            "disabled": false,
            "icon": "",
            "layout": "IPY_MODEL_d2b18a6ffeb04cd1a7cadd7c8348327b",
            "style": "IPY_MODEL_b54b7890e00244d98cbc1836881c4377",
            "tooltip": ""
          }
        },
        "d2b18a6ffeb04cd1a7cadd7c8348327b": {
          "model_module": "@jupyter-widgets/base",
          "model_name": "LayoutModel",
          "model_module_version": "1.2.0",
          "state": {
            "_model_module": "@jupyter-widgets/base",
            "_model_module_version": "1.2.0",
            "_model_name": "LayoutModel",
            "_view_count": null,
            "_view_module": "@jupyter-widgets/base",
            "_view_module_version": "1.2.0",
            "_view_name": "LayoutView",
            "align_content": null,
            "align_items": null,
            "align_self": null,
            "border": null,
            "bottom": null,
            "display": null,
            "flex": null,
            "flex_flow": null,
            "grid_area": null,
            "grid_auto_columns": null,
            "grid_auto_flow": null,
            "grid_auto_rows": null,
            "grid_column": null,
            "grid_gap": null,
            "grid_row": null,
            "grid_template_areas": null,
            "grid_template_columns": null,
            "grid_template_rows": null,
            "height": null,
            "justify_content": null,
            "justify_items": null,
            "left": null,
            "margin": null,
            "max_height": null,
            "max_width": null,
            "min_height": null,
            "min_width": null,
            "object_fit": null,
            "object_position": null,
            "order": null,
            "overflow": null,
            "overflow_x": null,
            "overflow_y": null,
            "padding": null,
            "right": null,
            "top": null,
            "visibility": null,
            "width": null
          }
        },
        "b54b7890e00244d98cbc1836881c4377": {
          "model_module": "@jupyter-widgets/controls",
          "model_name": "ButtonStyleModel",
          "model_module_version": "1.5.0",
          "state": {
            "_model_module": "@jupyter-widgets/controls",
            "_model_module_version": "1.5.0",
            "_model_name": "ButtonStyleModel",
            "_view_count": null,
            "_view_module": "@jupyter-widgets/base",
            "_view_module_version": "1.2.0",
            "_view_name": "StyleView",
            "button_color": null,
            "font_weight": ""
          }
        },
        "ce12c3313e964cab8ac1014273289e5e": {
          "model_module": "@jupyter-widgets/output",
          "model_name": "OutputModel",
          "model_module_version": "1.0.0",
          "state": {
            "_dom_classes": [],
            "_model_module": "@jupyter-widgets/output",
            "_model_module_version": "1.0.0",
            "_model_name": "OutputModel",
            "_view_count": null,
            "_view_module": "@jupyter-widgets/output",
            "_view_module_version": "1.0.0",
            "_view_name": "OutputView",
            "layout": "IPY_MODEL_17fadd15561c4f03ad33ba1910f47d55",
            "msg_id": "",
            "outputs": [
              {
                "output_type": "stream",
                "name": "stdout",
                "text": [
                  "Número de Inscripción: 1325\n",
                  "Nombres: Juan\n",
                  "Pago de Matrícula: $50000.00\n"
                ]
              }
            ]
          }
        },
        "17fadd15561c4f03ad33ba1910f47d55": {
          "model_module": "@jupyter-widgets/base",
          "model_name": "LayoutModel",
          "model_module_version": "1.2.0",
          "state": {
            "_model_module": "@jupyter-widgets/base",
            "_model_module_version": "1.2.0",
            "_model_name": "LayoutModel",
            "_view_count": null,
            "_view_module": "@jupyter-widgets/base",
            "_view_module_version": "1.2.0",
            "_view_name": "LayoutView",
            "align_content": null,
            "align_items": null,
            "align_self": null,
            "border": null,
            "bottom": null,
            "display": null,
            "flex": null,
            "flex_flow": null,
            "grid_area": null,
            "grid_auto_columns": null,
            "grid_auto_flow": null,
            "grid_auto_rows": null,
            "grid_column": null,
            "grid_gap": null,
            "grid_row": null,
            "grid_template_areas": null,
            "grid_template_columns": null,
            "grid_template_rows": null,
            "height": null,
            "justify_content": null,
            "justify_items": null,
            "left": null,
            "margin": null,
            "max_height": null,
            "max_width": null,
            "min_height": null,
            "min_width": null,
            "object_fit": null,
            "object_position": null,
            "order": null,
            "overflow": null,
            "overflow_x": null,
            "overflow_y": null,
            "padding": null,
            "right": null,
            "top": null,
            "visibility": null,
            "width": null
          }
        },
        "b55c7a3db5a44c8ab38e9807b0c2010e": {
          "model_module": "@jupyter-widgets/controls",
          "model_name": "TextModel",
          "model_module_version": "1.5.0",
          "state": {
            "_dom_classes": [],
            "_model_module": "@jupyter-widgets/controls",
            "_model_module_version": "1.5.0",
            "_model_name": "TextModel",
            "_view_count": null,
            "_view_module": "@jupyter-widgets/controls",
            "_view_module_version": "1.5.0",
            "_view_name": "TextView",
            "continuous_update": true,
            "description": "Nombre:",
            "description_tooltip": null,
            "disabled": false,
            "layout": "IPY_MODEL_15bbc3e4573440a3a39cbe7ace432004",
            "placeholder": "Ingrese el nombre",
            "style": "IPY_MODEL_c35801c45cf94c868708ef815e145614",
            "value": "Juan"
          }
        },
        "15bbc3e4573440a3a39cbe7ace432004": {
          "model_module": "@jupyter-widgets/base",
          "model_name": "LayoutModel",
          "model_module_version": "1.2.0",
          "state": {
            "_model_module": "@jupyter-widgets/base",
            "_model_module_version": "1.2.0",
            "_model_name": "LayoutModel",
            "_view_count": null,
            "_view_module": "@jupyter-widgets/base",
            "_view_module_version": "1.2.0",
            "_view_name": "LayoutView",
            "align_content": null,
            "align_items": null,
            "align_self": null,
            "border": null,
            "bottom": null,
            "display": null,
            "flex": null,
            "flex_flow": null,
            "grid_area": null,
            "grid_auto_columns": null,
            "grid_auto_flow": null,
            "grid_auto_rows": null,
            "grid_column": null,
            "grid_gap": null,
            "grid_row": null,
            "grid_template_areas": null,
            "grid_template_columns": null,
            "grid_template_rows": null,
            "height": null,
            "justify_content": null,
            "justify_items": null,
            "left": null,
            "margin": null,
            "max_height": null,
            "max_width": null,
            "min_height": null,
            "min_width": null,
            "object_fit": null,
            "object_position": null,
            "order": null,
            "overflow": null,
            "overflow_x": null,
            "overflow_y": null,
            "padding": null,
            "right": null,
            "top": null,
            "visibility": null,
            "width": null
          }
        },
        "c35801c45cf94c868708ef815e145614": {
          "model_module": "@jupyter-widgets/controls",
          "model_name": "DescriptionStyleModel",
          "model_module_version": "1.5.0",
          "state": {
            "_model_module": "@jupyter-widgets/controls",
            "_model_module_version": "1.5.0",
            "_model_name": "DescriptionStyleModel",
            "_view_count": null,
            "_view_module": "@jupyter-widgets/base",
            "_view_module_version": "1.2.0",
            "_view_name": "StyleView",
            "description_width": ""
          }
        },
        "9f50665b89a74065a816dd791c3c4a8e": {
          "model_module": "@jupyter-widgets/controls",
          "model_name": "TextModel",
          "model_module_version": "1.5.0",
          "state": {
            "_dom_classes": [],
            "_model_module": "@jupyter-widgets/controls",
            "_model_module_version": "1.5.0",
            "_model_name": "TextModel",
            "_view_count": null,
            "_view_module": "@jupyter-widgets/controls",
            "_view_module_version": "1.5.0",
            "_view_name": "TextView",
            "continuous_update": true,
            "description": "Salario/Hora:",
            "description_tooltip": null,
            "disabled": false,
            "layout": "IPY_MODEL_beda862817a64e9095721599cec386a9",
            "placeholder": "Ingrese el salario por hora",
            "style": "IPY_MODEL_68b9f25bf4b444f8afd44ac5d804d939",
            "value": "80000"
          }
        },
        "beda862817a64e9095721599cec386a9": {
          "model_module": "@jupyter-widgets/base",
          "model_name": "LayoutModel",
          "model_module_version": "1.2.0",
          "state": {
            "_model_module": "@jupyter-widgets/base",
            "_model_module_version": "1.2.0",
            "_model_name": "LayoutModel",
            "_view_count": null,
            "_view_module": "@jupyter-widgets/base",
            "_view_module_version": "1.2.0",
            "_view_name": "LayoutView",
            "align_content": null,
            "align_items": null,
            "align_self": null,
            "border": null,
            "bottom": null,
            "display": null,
            "flex": null,
            "flex_flow": null,
            "grid_area": null,
            "grid_auto_columns": null,
            "grid_auto_flow": null,
            "grid_auto_rows": null,
            "grid_column": null,
            "grid_gap": null,
            "grid_row": null,
            "grid_template_areas": null,
            "grid_template_columns": null,
            "grid_template_rows": null,
            "height": null,
            "justify_content": null,
            "justify_items": null,
            "left": null,
            "margin": null,
            "max_height": null,
            "max_width": null,
            "min_height": null,
            "min_width": null,
            "object_fit": null,
            "object_position": null,
            "order": null,
            "overflow": null,
            "overflow_x": null,
            "overflow_y": null,
            "padding": null,
            "right": null,
            "top": null,
            "visibility": null,
            "width": null
          }
        },
        "68b9f25bf4b444f8afd44ac5d804d939": {
          "model_module": "@jupyter-widgets/controls",
          "model_name": "DescriptionStyleModel",
          "model_module_version": "1.5.0",
          "state": {
            "_model_module": "@jupyter-widgets/controls",
            "_model_module_version": "1.5.0",
            "_model_name": "DescriptionStyleModel",
            "_view_count": null,
            "_view_module": "@jupyter-widgets/base",
            "_view_module_version": "1.2.0",
            "_view_name": "StyleView",
            "description_width": ""
          }
        },
        "9d0db4633f594a1f88fc228be6c516eb": {
          "model_module": "@jupyter-widgets/controls",
          "model_name": "TextModel",
          "model_module_version": "1.5.0",
          "state": {
            "_dom_classes": [],
            "_model_module": "@jupyter-widgets/controls",
            "_model_module_version": "1.5.0",
            "_model_name": "TextModel",
            "_view_count": null,
            "_view_module": "@jupyter-widgets/controls",
            "_view_module_version": "1.5.0",
            "_view_name": "TextView",
            "continuous_update": true,
            "description": "Horas/mes:",
            "description_tooltip": null,
            "disabled": false,
            "layout": "IPY_MODEL_1bfdf15e2551493c8c93ce4d09b7cd21",
            "placeholder": "Ingrese las horas trabajadas",
            "style": "IPY_MODEL_b29445a49b654fbda18d104619e37905",
            "value": "244"
          }
        },
        "1bfdf15e2551493c8c93ce4d09b7cd21": {
          "model_module": "@jupyter-widgets/base",
          "model_name": "LayoutModel",
          "model_module_version": "1.2.0",
          "state": {
            "_model_module": "@jupyter-widgets/base",
            "_model_module_version": "1.2.0",
            "_model_name": "LayoutModel",
            "_view_count": null,
            "_view_module": "@jupyter-widgets/base",
            "_view_module_version": "1.2.0",
            "_view_name": "LayoutView",
            "align_content": null,
            "align_items": null,
            "align_self": null,
            "border": null,
            "bottom": null,
            "display": null,
            "flex": null,
            "flex_flow": null,
            "grid_area": null,
            "grid_auto_columns": null,
            "grid_auto_flow": null,
            "grid_auto_rows": null,
            "grid_column": null,
            "grid_gap": null,
            "grid_row": null,
            "grid_template_areas": null,
            "grid_template_columns": null,
            "grid_template_rows": null,
            "height": null,
            "justify_content": null,
            "justify_items": null,
            "left": null,
            "margin": null,
            "max_height": null,
            "max_width": null,
            "min_height": null,
            "min_width": null,
            "object_fit": null,
            "object_position": null,
            "order": null,
            "overflow": null,
            "overflow_x": null,
            "overflow_y": null,
            "padding": null,
            "right": null,
            "top": null,
            "visibility": null,
            "width": null
          }
        },
        "b29445a49b654fbda18d104619e37905": {
          "model_module": "@jupyter-widgets/controls",
          "model_name": "DescriptionStyleModel",
          "model_module_version": "1.5.0",
          "state": {
            "_model_module": "@jupyter-widgets/controls",
            "_model_module_version": "1.5.0",
            "_model_name": "DescriptionStyleModel",
            "_view_count": null,
            "_view_module": "@jupyter-widgets/base",
            "_view_module_version": "1.2.0",
            "_view_name": "StyleView",
            "description_width": ""
          }
        },
        "1d378e5e14d7468ba685c6415d2a4373": {
          "model_module": "@jupyter-widgets/controls",
          "model_name": "ButtonModel",
          "model_module_version": "1.5.0",
          "state": {
            "_dom_classes": [],
            "_model_module": "@jupyter-widgets/controls",
            "_model_module_version": "1.5.0",
            "_model_name": "ButtonModel",
            "_view_count": null,
            "_view_module": "@jupyter-widgets/controls",
            "_view_module_version": "1.5.0",
            "_view_name": "ButtonView",
            "button_style": "success",
            "description": "Calcular Salario",
            "disabled": false,
            "icon": "",
            "layout": "IPY_MODEL_7a0d93a10a4a471eaf4c84f50b90a5d6",
            "style": "IPY_MODEL_558ead3e4dc146e78c70f691101788ca",
            "tooltip": ""
          }
        },
        "7a0d93a10a4a471eaf4c84f50b90a5d6": {
          "model_module": "@jupyter-widgets/base",
          "model_name": "LayoutModel",
          "model_module_version": "1.2.0",
          "state": {
            "_model_module": "@jupyter-widgets/base",
            "_model_module_version": "1.2.0",
            "_model_name": "LayoutModel",
            "_view_count": null,
            "_view_module": "@jupyter-widgets/base",
            "_view_module_version": "1.2.0",
            "_view_name": "LayoutView",
            "align_content": null,
            "align_items": null,
            "align_self": null,
            "border": null,
            "bottom": null,
            "display": null,
            "flex": null,
            "flex_flow": null,
            "grid_area": null,
            "grid_auto_columns": null,
            "grid_auto_flow": null,
            "grid_auto_rows": null,
            "grid_column": null,
            "grid_gap": null,
            "grid_row": null,
            "grid_template_areas": null,
            "grid_template_columns": null,
            "grid_template_rows": null,
            "height": null,
            "justify_content": null,
            "justify_items": null,
            "left": null,
            "margin": null,
            "max_height": null,
            "max_width": null,
            "min_height": null,
            "min_width": null,
            "object_fit": null,
            "object_position": null,
            "order": null,
            "overflow": null,
            "overflow_x": null,
            "overflow_y": null,
            "padding": null,
            "right": null,
            "top": null,
            "visibility": null,
            "width": null
          }
        },
        "558ead3e4dc146e78c70f691101788ca": {
          "model_module": "@jupyter-widgets/controls",
          "model_name": "ButtonStyleModel",
          "model_module_version": "1.5.0",
          "state": {
            "_model_module": "@jupyter-widgets/controls",
            "_model_module_version": "1.5.0",
            "_model_name": "ButtonStyleModel",
            "_view_count": null,
            "_view_module": "@jupyter-widgets/base",
            "_view_module_version": "1.2.0",
            "_view_name": "StyleView",
            "button_color": null,
            "font_weight": ""
          }
        },
        "4398cfea1b1341e3babf198a99c50438": {
          "model_module": "@jupyter-widgets/output",
          "model_name": "OutputModel",
          "model_module_version": "1.0.0",
          "state": {
            "_dom_classes": [],
            "_model_module": "@jupyter-widgets/output",
            "_model_module_version": "1.0.0",
            "_model_name": "OutputModel",
            "_view_count": null,
            "_view_module": "@jupyter-widgets/output",
            "_view_module_version": "1.0.0",
            "_view_name": "OutputView",
            "layout": "IPY_MODEL_cd8f0de3ed024ab1b67b7723aae45f5b",
            "msg_id": "",
            "outputs": [
              {
                "output_type": "stream",
                "name": "stdout",
                "text": [
                  "Nombre: Juan\n",
                  "Salario Mensual: $19520000.00\n"
                ]
              }
            ]
          }
        },
        "cd8f0de3ed024ab1b67b7723aae45f5b": {
          "model_module": "@jupyter-widgets/base",
          "model_name": "LayoutModel",
          "model_module_version": "1.2.0",
          "state": {
            "_model_module": "@jupyter-widgets/base",
            "_model_module_version": "1.2.0",
            "_model_name": "LayoutModel",
            "_view_count": null,
            "_view_module": "@jupyter-widgets/base",
            "_view_module_version": "1.2.0",
            "_view_name": "LayoutView",
            "align_content": null,
            "align_items": null,
            "align_self": null,
            "border": null,
            "bottom": null,
            "display": null,
            "flex": null,
            "flex_flow": null,
            "grid_area": null,
            "grid_auto_columns": null,
            "grid_auto_flow": null,
            "grid_auto_rows": null,
            "grid_column": null,
            "grid_gap": null,
            "grid_row": null,
            "grid_template_areas": null,
            "grid_template_columns": null,
            "grid_template_rows": null,
            "height": null,
            "justify_content": null,
            "justify_items": null,
            "left": null,
            "margin": null,
            "max_height": null,
            "max_width": null,
            "min_height": null,
            "min_width": null,
            "object_fit": null,
            "object_position": null,
            "order": null,
            "overflow": null,
            "overflow_x": null,
            "overflow_y": null,
            "padding": null,
            "right": null,
            "top": null,
            "visibility": null,
            "width": null
          }
        },
        "8c21afd41ab343e6829de33c5b348903": {
          "model_module": "@jupyter-widgets/controls",
          "model_name": "TextModel",
          "model_module_version": "1.5.0",
          "state": {
            "_dom_classes": [],
            "_model_module": "@jupyter-widgets/controls",
            "_model_module_version": "1.5.0",
            "_model_name": "TextModel",
            "_view_count": null,
            "_view_module": "@jupyter-widgets/controls",
            "_view_module_version": "1.5.0",
            "_view_name": "TextView",
            "continuous_update": true,
            "description": "A:",
            "description_tooltip": null,
            "disabled": false,
            "layout": "IPY_MODEL_6d779d132d8a45ac9bb1e6a6417d2630",
            "placeholder": "Ingrese el valor de A",
            "style": "IPY_MODEL_80b52b196f064935b12985bb1b7c25e6",
            "value": "2"
          }
        },
        "6d779d132d8a45ac9bb1e6a6417d2630": {
          "model_module": "@jupyter-widgets/base",
          "model_name": "LayoutModel",
          "model_module_version": "1.2.0",
          "state": {
            "_model_module": "@jupyter-widgets/base",
            "_model_module_version": "1.2.0",
            "_model_name": "LayoutModel",
            "_view_count": null,
            "_view_module": "@jupyter-widgets/base",
            "_view_module_version": "1.2.0",
            "_view_name": "LayoutView",
            "align_content": null,
            "align_items": null,
            "align_self": null,
            "border": null,
            "bottom": null,
            "display": null,
            "flex": null,
            "flex_flow": null,
            "grid_area": null,
            "grid_auto_columns": null,
            "grid_auto_flow": null,
            "grid_auto_rows": null,
            "grid_column": null,
            "grid_gap": null,
            "grid_row": null,
            "grid_template_areas": null,
            "grid_template_columns": null,
            "grid_template_rows": null,
            "height": null,
            "justify_content": null,
            "justify_items": null,
            "left": null,
            "margin": null,
            "max_height": null,
            "max_width": null,
            "min_height": null,
            "min_width": null,
            "object_fit": null,
            "object_position": null,
            "order": null,
            "overflow": null,
            "overflow_x": null,
            "overflow_y": null,
            "padding": null,
            "right": null,
            "top": null,
            "visibility": null,
            "width": null
          }
        },
        "80b52b196f064935b12985bb1b7c25e6": {
          "model_module": "@jupyter-widgets/controls",
          "model_name": "DescriptionStyleModel",
          "model_module_version": "1.5.0",
          "state": {
            "_model_module": "@jupyter-widgets/controls",
            "_model_module_version": "1.5.0",
            "_model_name": "DescriptionStyleModel",
            "_view_count": null,
            "_view_module": "@jupyter-widgets/base",
            "_view_module_version": "1.2.0",
            "_view_name": "StyleView",
            "description_width": ""
          }
        },
        "c3a683d5b4804763922bf66f3670d1b6": {
          "model_module": "@jupyter-widgets/controls",
          "model_name": "TextModel",
          "model_module_version": "1.5.0",
          "state": {
            "_dom_classes": [],
            "_model_module": "@jupyter-widgets/controls",
            "_model_module_version": "1.5.0",
            "_model_name": "TextModel",
            "_view_count": null,
            "_view_module": "@jupyter-widgets/controls",
            "_view_module_version": "1.5.0",
            "_view_name": "TextView",
            "continuous_update": true,
            "description": "B:",
            "description_tooltip": null,
            "disabled": false,
            "layout": "IPY_MODEL_20b4067f19cb4ea78e9af175ca2f86a0",
            "placeholder": "Ingrese el valor de B",
            "style": "IPY_MODEL_652caa82f0094f2fa4d35acb05cf39ea",
            "value": "-4"
          }
        },
        "20b4067f19cb4ea78e9af175ca2f86a0": {
          "model_module": "@jupyter-widgets/base",
          "model_name": "LayoutModel",
          "model_module_version": "1.2.0",
          "state": {
            "_model_module": "@jupyter-widgets/base",
            "_model_module_version": "1.2.0",
            "_model_name": "LayoutModel",
            "_view_count": null,
            "_view_module": "@jupyter-widgets/base",
            "_view_module_version": "1.2.0",
            "_view_name": "LayoutView",
            "align_content": null,
            "align_items": null,
            "align_self": null,
            "border": null,
            "bottom": null,
            "display": null,
            "flex": null,
            "flex_flow": null,
            "grid_area": null,
            "grid_auto_columns": null,
            "grid_auto_flow": null,
            "grid_auto_rows": null,
            "grid_column": null,
            "grid_gap": null,
            "grid_row": null,
            "grid_template_areas": null,
            "grid_template_columns": null,
            "grid_template_rows": null,
            "height": null,
            "justify_content": null,
            "justify_items": null,
            "left": null,
            "margin": null,
            "max_height": null,
            "max_width": null,
            "min_height": null,
            "min_width": null,
            "object_fit": null,
            "object_position": null,
            "order": null,
            "overflow": null,
            "overflow_x": null,
            "overflow_y": null,
            "padding": null,
            "right": null,
            "top": null,
            "visibility": null,
            "width": null
          }
        },
        "652caa82f0094f2fa4d35acb05cf39ea": {
          "model_module": "@jupyter-widgets/controls",
          "model_name": "DescriptionStyleModel",
          "model_module_version": "1.5.0",
          "state": {
            "_model_module": "@jupyter-widgets/controls",
            "_model_module_version": "1.5.0",
            "_model_name": "DescriptionStyleModel",
            "_view_count": null,
            "_view_module": "@jupyter-widgets/base",
            "_view_module_version": "1.2.0",
            "_view_name": "StyleView",
            "description_width": ""
          }
        },
        "a0bc88e6f4554155a988994ac3484d26": {
          "model_module": "@jupyter-widgets/controls",
          "model_name": "TextModel",
          "model_module_version": "1.5.0",
          "state": {
            "_dom_classes": [],
            "_model_module": "@jupyter-widgets/controls",
            "_model_module_version": "1.5.0",
            "_model_name": "TextModel",
            "_view_count": null,
            "_view_module": "@jupyter-widgets/controls",
            "_view_module_version": "1.5.0",
            "_view_name": "TextView",
            "continuous_update": true,
            "description": "C:",
            "description_tooltip": null,
            "disabled": false,
            "layout": "IPY_MODEL_820d13c09e6a406bbdaa190fc03d0734",
            "placeholder": "Ingrese el valor de C",
            "style": "IPY_MODEL_c36e9ef073ae4d539dc64c01edce76f4",
            "value": "-6"
          }
        },
        "820d13c09e6a406bbdaa190fc03d0734": {
          "model_module": "@jupyter-widgets/base",
          "model_name": "LayoutModel",
          "model_module_version": "1.2.0",
          "state": {
            "_model_module": "@jupyter-widgets/base",
            "_model_module_version": "1.2.0",
            "_model_name": "LayoutModel",
            "_view_count": null,
            "_view_module": "@jupyter-widgets/base",
            "_view_module_version": "1.2.0",
            "_view_name": "LayoutView",
            "align_content": null,
            "align_items": null,
            "align_self": null,
            "border": null,
            "bottom": null,
            "display": null,
            "flex": null,
            "flex_flow": null,
            "grid_area": null,
            "grid_auto_columns": null,
            "grid_auto_flow": null,
            "grid_auto_rows": null,
            "grid_column": null,
            "grid_gap": null,
            "grid_row": null,
            "grid_template_areas": null,
            "grid_template_columns": null,
            "grid_template_rows": null,
            "height": null,
            "justify_content": null,
            "justify_items": null,
            "left": null,
            "margin": null,
            "max_height": null,
            "max_width": null,
            "min_height": null,
            "min_width": null,
            "object_fit": null,
            "object_position": null,
            "order": null,
            "overflow": null,
            "overflow_x": null,
            "overflow_y": null,
            "padding": null,
            "right": null,
            "top": null,
            "visibility": null,
            "width": null
          }
        },
        "c36e9ef073ae4d539dc64c01edce76f4": {
          "model_module": "@jupyter-widgets/controls",
          "model_name": "DescriptionStyleModel",
          "model_module_version": "1.5.0",
          "state": {
            "_model_module": "@jupyter-widgets/controls",
            "_model_module_version": "1.5.0",
            "_model_name": "DescriptionStyleModel",
            "_view_count": null,
            "_view_module": "@jupyter-widgets/base",
            "_view_module_version": "1.2.0",
            "_view_name": "StyleView",
            "description_width": ""
          }
        },
        "5c80589bd862482da77dd43489e0862a": {
          "model_module": "@jupyter-widgets/controls",
          "model_name": "ButtonModel",
          "model_module_version": "1.5.0",
          "state": {
            "_dom_classes": [],
            "_model_module": "@jupyter-widgets/controls",
            "_model_module_version": "1.5.0",
            "_model_name": "ButtonModel",
            "_view_count": null,
            "_view_module": "@jupyter-widgets/controls",
            "_view_module_version": "1.5.0",
            "_view_name": "ButtonView",
            "button_style": "success",
            "description": "Calcular Soluciones",
            "disabled": false,
            "icon": "",
            "layout": "IPY_MODEL_975ad189fa104f53b6e7046fa385d011",
            "style": "IPY_MODEL_40d60ea9f02549a29504ed945db9f292",
            "tooltip": ""
          }
        },
        "975ad189fa104f53b6e7046fa385d011": {
          "model_module": "@jupyter-widgets/base",
          "model_name": "LayoutModel",
          "model_module_version": "1.2.0",
          "state": {
            "_model_module": "@jupyter-widgets/base",
            "_model_module_version": "1.2.0",
            "_model_name": "LayoutModel",
            "_view_count": null,
            "_view_module": "@jupyter-widgets/base",
            "_view_module_version": "1.2.0",
            "_view_name": "LayoutView",
            "align_content": null,
            "align_items": null,
            "align_self": null,
            "border": null,
            "bottom": null,
            "display": null,
            "flex": null,
            "flex_flow": null,
            "grid_area": null,
            "grid_auto_columns": null,
            "grid_auto_flow": null,
            "grid_auto_rows": null,
            "grid_column": null,
            "grid_gap": null,
            "grid_row": null,
            "grid_template_areas": null,
            "grid_template_columns": null,
            "grid_template_rows": null,
            "height": null,
            "justify_content": null,
            "justify_items": null,
            "left": null,
            "margin": null,
            "max_height": null,
            "max_width": null,
            "min_height": null,
            "min_width": null,
            "object_fit": null,
            "object_position": null,
            "order": null,
            "overflow": null,
            "overflow_x": null,
            "overflow_y": null,
            "padding": null,
            "right": null,
            "top": null,
            "visibility": null,
            "width": null
          }
        },
        "40d60ea9f02549a29504ed945db9f292": {
          "model_module": "@jupyter-widgets/controls",
          "model_name": "ButtonStyleModel",
          "model_module_version": "1.5.0",
          "state": {
            "_model_module": "@jupyter-widgets/controls",
            "_model_module_version": "1.5.0",
            "_model_name": "ButtonStyleModel",
            "_view_count": null,
            "_view_module": "@jupyter-widgets/base",
            "_view_module_version": "1.2.0",
            "_view_name": "StyleView",
            "button_color": null,
            "font_weight": ""
          }
        },
        "5af21da8e6ce4edda95bdcb985c7bc26": {
          "model_module": "@jupyter-widgets/output",
          "model_name": "OutputModel",
          "model_module_version": "1.0.0",
          "state": {
            "_dom_classes": [],
            "_model_module": "@jupyter-widgets/output",
            "_model_module_version": "1.0.0",
            "_model_name": "OutputModel",
            "_view_count": null,
            "_view_module": "@jupyter-widgets/output",
            "_view_module_version": "1.0.0",
            "_view_name": "OutputView",
            "layout": "IPY_MODEL_3ebffb16521242228f4740f90be89ff0",
            "msg_id": "",
            "outputs": [
              {
                "output_type": "stream",
                "name": "stdout",
                "text": [
                  "Las soluciones son: x1 = 3.00 y x2 = -1.00\n"
                ]
              }
            ]
          }
        },
        "3ebffb16521242228f4740f90be89ff0": {
          "model_module": "@jupyter-widgets/base",
          "model_name": "LayoutModel",
          "model_module_version": "1.2.0",
          "state": {
            "_model_module": "@jupyter-widgets/base",
            "_model_module_version": "1.2.0",
            "_model_name": "LayoutModel",
            "_view_count": null,
            "_view_module": "@jupyter-widgets/base",
            "_view_module_version": "1.2.0",
            "_view_name": "LayoutView",
            "align_content": null,
            "align_items": null,
            "align_self": null,
            "border": null,
            "bottom": null,
            "display": null,
            "flex": null,
            "flex_flow": null,
            "grid_area": null,
            "grid_auto_columns": null,
            "grid_auto_flow": null,
            "grid_auto_rows": null,
            "grid_column": null,
            "grid_gap": null,
            "grid_row": null,
            "grid_template_areas": null,
            "grid_template_columns": null,
            "grid_template_rows": null,
            "height": null,
            "justify_content": null,
            "justify_items": null,
            "left": null,
            "margin": null,
            "max_height": null,
            "max_width": null,
            "min_height": null,
            "min_width": null,
            "object_fit": null,
            "object_position": null,
            "order": null,
            "overflow": null,
            "overflow_x": null,
            "overflow_y": null,
            "padding": null,
            "right": null,
            "top": null,
            "visibility": null,
            "width": null
          }
        }
      }
    }
  },
  "cells": [
    {
      "cell_type": "markdown",
      "metadata": {
        "id": "view-in-github",
        "colab_type": "text"
      },
      "source": [
        "<a href=\"https://colab.research.google.com/github/jgrajalesa/POO-Actividad3/blob/main/Actividad_3_POO_JJGA_2024_02.ipynb\" target=\"_parent\"><img src=\"https://colab.research.google.com/assets/colab-badge.svg\" alt=\"Open In Colab\"/></a>"
      ]
    },
    {
      "cell_type": "markdown",
      "source": [
        "# ***ACTIVIDAD 3 PROGRAMACION ORIENTADA A OBJETOS***\n",
        "\n",
        "> Docente: PhD(c) Walter Arboleda"
      ],
      "metadata": {
        "id": "VN4Zp07WeAm5"
      }
    },
    {
      "cell_type": "markdown",
      "source": [
        "\n",
        "\n",
        "> Estudiante: Juan José Grajales Alvarez. Universidad Nacional de Colombia\n",
        "\n"
      ],
      "metadata": {
        "id": "YBYiK8WqmlTm"
      }
    },
    {
      "cell_type": "markdown",
      "source": [
        "# **EJERCICIO PROPUESTO 18:**"
      ],
      "metadata": {
        "id": "kElWReFUGcHU"
      }
    },
    {
      "cell_type": "code",
      "execution_count": null,
      "metadata": {
        "colab": {
          "base_uri": "https://localhost:8080/",
          "height": 270,
          "referenced_widgets": [
            "508242b389674658afdf871da8a2faa0",
            "7406664b8693459bac948daff7cfa822",
            "ffde0ae862b340e2b33ffe57bce8909d",
            "1f894e12d21841a1921e6fddd00858e0",
            "cd84d8f801294f16a1e5483818ce8939",
            "3584e77ffbc3466783ee92660aa4272b",
            "6a8cf663030d426b93d8a1247a76aa2c",
            "1f416c5dc73544fe9ed79c69d2307ee6",
            "0bc49f8a7e454ee2b4460df5f1b76f05",
            "4720e25fdec24259a00254966537108b",
            "ee9ad663466a434ab44cf897b920b1c6",
            "2fc3ade85ddb4cd8869d8b9f716e027e",
            "9513a695b5c8427a94203b4d89bdb36d",
            "00818e3cbe994297ae6e9658fdd40910",
            "9384a50b65b34bebbf170d840dc70b9a",
            "f3fd441265f2467a8348e374ceb7ac63",
            "138c317f6a2c432683d6e207f66f2d7c",
            "53131488caba4617bb97ac9a5af10d57",
            "e43534bc3386465abd812965764b697a",
            "d6f2ad12545c4ce49e4575c674593220"
          ]
        },
        "id": "yESW6q1eVn81",
        "outputId": "add3e54a-648d-46ce-83ef-0ff2b01a2600"
      },
      "outputs": [
        {
          "output_type": "display_data",
          "data": {
            "text/plain": [
              "Text(value='', description='Código:')"
            ],
            "application/vnd.jupyter.widget-view+json": {
              "version_major": 2,
              "version_minor": 0,
              "model_id": "508242b389674658afdf871da8a2faa0"
            }
          },
          "metadata": {}
        },
        {
          "output_type": "display_data",
          "data": {
            "text/plain": [
              "Text(value='', description='Nombres:')"
            ],
            "application/vnd.jupyter.widget-view+json": {
              "version_major": 2,
              "version_minor": 0,
              "model_id": "1f894e12d21841a1921e6fddd00858e0"
            }
          },
          "metadata": {}
        },
        {
          "output_type": "display_data",
          "data": {
            "text/plain": [
              "Text(value='', description='Horas:')"
            ],
            "application/vnd.jupyter.widget-view+json": {
              "version_major": 2,
              "version_minor": 0,
              "model_id": "6a8cf663030d426b93d8a1247a76aa2c"
            }
          },
          "metadata": {}
        },
        {
          "output_type": "display_data",
          "data": {
            "text/plain": [
              "Text(value='', description='Valor hora:')"
            ],
            "application/vnd.jupyter.widget-view+json": {
              "version_major": 2,
              "version_minor": 0,
              "model_id": "4720e25fdec24259a00254966537108b"
            }
          },
          "metadata": {}
        },
        {
          "output_type": "display_data",
          "data": {
            "text/plain": [
              "Text(value='', description='Retención (%):')"
            ],
            "application/vnd.jupyter.widget-view+json": {
              "version_major": 2,
              "version_minor": 0,
              "model_id": "9513a695b5c8427a94203b4d89bdb36d"
            }
          },
          "metadata": {}
        },
        {
          "output_type": "display_data",
          "data": {
            "text/plain": [
              "Button(description='Calcular', style=ButtonStyle())"
            ],
            "application/vnd.jupyter.widget-view+json": {
              "version_major": 2,
              "version_minor": 0,
              "model_id": "f3fd441265f2467a8348e374ceb7ac63"
            }
          },
          "metadata": {}
        },
        {
          "output_type": "display_data",
          "data": {
            "text/plain": [
              "Output()"
            ],
            "application/vnd.jupyter.widget-view+json": {
              "version_major": 2,
              "version_minor": 0,
              "model_id": "e43534bc3386465abd812965764b697a"
            }
          },
          "metadata": {}
        }
      ],
      "source": [
        "import ipywidgets as widgets\n",
        "from IPython.display import display, clear_output\n",
        "\n",
        "# Clase para el empleado\n",
        "class Empleado:\n",
        "    def __init__(self, codigo, nombres, horas_trabajadas, valor_hora, retencion):\n",
        "        self.codigo = codigo\n",
        "        self.nombres = nombres\n",
        "        self.horas_trabajadas = horas_trabajadas\n",
        "        self.valor_hora = valor_hora\n",
        "        self.retencion = retencion\n",
        "\n",
        "    def calcular_salario_bruto(self):\n",
        "        return self.horas_trabajadas * self.valor_hora\n",
        "\n",
        "    def calcular_salario_neto(self):\n",
        "        salario_bruto = self.calcular_salario_bruto()\n",
        "        return salario_bruto * (1 - self.retencion / 100)\n",
        "\n",
        "\n",
        "# Función para capturar datos y mostrar resultados\n",
        "def calcular_salario(codigo, nombres, horas, valor_hora, retencion):\n",
        "    try:\n",
        "        # Convertir datos\n",
        "        horas = float(horas)\n",
        "        valor_hora = float(valor_hora)\n",
        "        retencion = float(retencion)\n",
        "\n",
        "        if horas <= 0 or valor_hora <= 0 or not (0 <= retencion <= 100):\n",
        "            raise ValueError(\"Datos inválidos.\")\n",
        "\n",
        "        # Crear empleado\n",
        "        empleado = Empleado(codigo, nombres, horas, valor_hora, retencion)\n",
        "        salario_bruto = empleado.calcular_salario_bruto()\n",
        "        salario_neto = empleado.calcular_salario_neto()\n",
        "\n",
        "        # Mostrar resultados\n",
        "        output.clear_output()\n",
        "        with output:\n",
        "            print(f\"Código: {codigo}\")\n",
        "            print(f\"Nombres: {nombres}\")\n",
        "            print(f\"Salario Bruto: ${salario_bruto:.2f}\")\n",
        "            print(f\"Salario Neto: ${salario_neto:.2f}\")\n",
        "    except ValueError:\n",
        "        output.clear_output()\n",
        "        with output:\n",
        "            print(\"Por favor, ingrese datos válidos.\")\n",
        "\n",
        "\n",
        "# Crear widgets\n",
        "codigo_input = widgets.Text(description=\"Código:\")\n",
        "nombres_input = widgets.Text(description=\"Nombres:\")\n",
        "horas_input = widgets.Text(description=\"Horas:\")\n",
        "valor_hora_input = widgets.Text(description=\"Valor hora:\")\n",
        "retencion_input = widgets.Text(description=\"Retención (%):\")\n",
        "calcular_button = widgets.Button(description=\"Calcular\")\n",
        "output = widgets.Output()\n",
        "\n",
        "# Conectar botón a la función\n",
        "def on_calcular_button_clicked(b):\n",
        "    calcular_salario(\n",
        "        codigo_input.value,\n",
        "        nombres_input.value,\n",
        "        horas_input.value,\n",
        "        valor_hora_input.value,\n",
        "        retencion_input.value,\n",
        "    )\n",
        "\n",
        "calcular_button.on_click(on_calcular_button_clicked)\n",
        "\n",
        "# Mostrar widgets\n",
        "display(codigo_input, nombres_input, horas_input, valor_hora_input, retencion_input, calcular_button, output)"
      ]
    },
    {
      "cell_type": "markdown",
      "source": [
        "#**EJERCICIO PROPUESTO 19**"
      ],
      "metadata": {
        "id": "aA3LzfolGg4v"
      }
    },
    {
      "cell_type": "code",
      "source": [
        "import ipywidgets as widgets\n",
        "from IPython.display import display, clear_output\n",
        "\n",
        "# Clase para el Triángulo Equilátero\n",
        "class TrianguloEquilatero:\n",
        "    def __init__(self, lado):\n",
        "        self.lado = lado\n",
        "\n",
        "    def calcular_area(self):\n",
        "        return (3 ** 0.5 / 4) * self.lado ** 2\n",
        "\n",
        "    def calcular_perimetro(self):\n",
        "        return 3 * self.lado\n",
        "\n",
        "    def calcular_altura(self):\n",
        "        return (3 ** 0.5 / 2) * self.lado\n",
        "\n",
        "# Función para calcular resultados\n",
        "def calcular_resultados(change):\n",
        "    try:\n",
        "        lado = float(lado_input.value)\n",
        "        if lado <= 0:\n",
        "            raise ValueError(\"El lado debe ser un número positivo.\")\n",
        "\n",
        "        triangulo = TrianguloEquilatero(lado)\n",
        "        area = triangulo.calcular_area()\n",
        "        perimetro = triangulo.calcular_perimetro()\n",
        "        altura = triangulo.calcular_altura()\n",
        "\n",
        "        # Mostrar resultados\n",
        "        output.clear_output()\n",
        "        with output:\n",
        "            print(f\"Área: {area:.2f}\")\n",
        "            print(f\"Perímetro: {perimetro:.2f}\")\n",
        "            print(f\"Altura: {altura:.2f}\")\n",
        "    except ValueError:\n",
        "        output.clear_output()\n",
        "        with output:\n",
        "            print(\"Por favor, ingrese un número válido y positivo.\")\n",
        "\n",
        "# Crear widgets\n",
        "lado_input = widgets.Text(\n",
        "    value=\"\",\n",
        "    description=\"Lado:\",\n",
        "    placeholder=\"Ingrese el lado\",\n",
        ")\n",
        "\n",
        "calcular_button = widgets.Button(\n",
        "    description=\"Calcular\",\n",
        "    button_style=\"success\",\n",
        ")\n",
        "\n",
        "output = widgets.Output()\n",
        "\n",
        "# Conectar botón a la función\n",
        "calcular_button.on_click(calcular_resultados)\n",
        "\n",
        "# Mostrar widgets\n",
        "display(lado_input, calcular_button, output)"
      ],
      "metadata": {
        "id": "xbgZ8r82Gg-2",
        "colab": {
          "base_uri": "https://localhost:8080/",
          "height": 133,
          "referenced_widgets": [
            "06cc2073aaa9463eabedf7685c56067d",
            "56de5edf03ce4e3bad77acde39e39aef",
            "2900e1323f6446b0a6bacfef80b95b89",
            "0be5e843edc9488fb9d47b19cf496e89",
            "49acd8abea1b4bc6bffed6a8c3c22be2",
            "a6157f2c8ba4408c8cdc9876be44c65d",
            "4d60b318656c4a34b3ee6cb04f0905d0",
            "0992d484118b41cb8aa312bce97eb5d1"
          ]
        },
        "outputId": "c11a7c0c-ef63-4819-d4c2-0db36a4a5f08"
      },
      "execution_count": null,
      "outputs": [
        {
          "output_type": "display_data",
          "data": {
            "text/plain": [
              "Text(value='', description='Lado:', placeholder='Ingrese el lado')"
            ],
            "application/vnd.jupyter.widget-view+json": {
              "version_major": 2,
              "version_minor": 0,
              "model_id": "06cc2073aaa9463eabedf7685c56067d"
            }
          },
          "metadata": {}
        },
        {
          "output_type": "display_data",
          "data": {
            "text/plain": [
              "Button(button_style='success', description='Calcular', style=ButtonStyle())"
            ],
            "application/vnd.jupyter.widget-view+json": {
              "version_major": 2,
              "version_minor": 0,
              "model_id": "0be5e843edc9488fb9d47b19cf496e89"
            }
          },
          "metadata": {}
        },
        {
          "output_type": "display_data",
          "data": {
            "text/plain": [
              "Output()"
            ],
            "application/vnd.jupyter.widget-view+json": {
              "version_major": 2,
              "version_minor": 0,
              "model_id": "4d60b318656c4a34b3ee6cb04f0905d0"
            }
          },
          "metadata": {}
        }
      ]
    },
    {
      "cell_type": "markdown",
      "source": [
        "#**EJERCICIO RESUELTO 7**"
      ],
      "metadata": {
        "id": "Su6EY1l4cx5i"
      }
    },
    {
      "cell_type": "code",
      "source": [
        "import ipywidgets as widgets\n",
        "from IPython.display import display, clear_output\n",
        "\n",
        "# Clase para comparar dos números\n",
        "class Comparador:\n",
        "    def __init__(self, a, b):\n",
        "        self.a = a\n",
        "        self.b = b\n",
        "\n",
        "    def comparar(self):\n",
        "        if self.a > self.b:\n",
        "            return f\"A ({self.a}) es mayor que B ({self.b})\"\n",
        "        elif self.a < self.b:\n",
        "            return f\"A ({self.a}) es menor que B ({self.b})\"\n",
        "        else:\n",
        "            return f\"A ({self.a}) es igual a B ({self.b})\"\n",
        "\n",
        "# Función para manejar la interacción con la interfaz\n",
        "def comparar_numeros(change):\n",
        "    try:\n",
        "        # Leer valores de entrada\n",
        "        a = float(input_a.value)\n",
        "        b = float(input_b.value)\n",
        "\n",
        "        # Crear instancia de Comparador y realizar la comparación\n",
        "        comparador = Comparador(a, b)\n",
        "        resultado = comparador.comparar()\n",
        "\n",
        "        # Mostrar el resultado en la interfaz\n",
        "        output.clear_output()\n",
        "        with output:\n",
        "            print(resultado)\n",
        "\n",
        "    except ValueError:\n",
        "        output.clear_output()\n",
        "        with output:\n",
        "            print(\"Por favor, ingrese valores numéricos válidos.\")\n",
        "\n",
        "# Crear widgets para la interfaz gráfica\n",
        "input_a = widgets.Text(description=\"A:\", placeholder=\"Ingrese un número\")\n",
        "input_b = widgets.Text(description=\"B:\", placeholder=\"Ingrese un número\")\n",
        "button_comparar = widgets.Button(description=\"Comparar\", button_style=\"success\")\n",
        "output = widgets.Output()\n",
        "\n",
        "# Conectar botón con la función\n",
        "button_comparar.on_click(comparar_numeros)\n",
        "\n",
        "# Mostrar widgets en Google Colab\n",
        "display(input_a, input_b, button_comparar, output)"
      ],
      "metadata": {
        "id": "tKmLpXI_cv8X",
        "colab": {
          "base_uri": "https://localhost:8080/",
          "height": 128,
          "referenced_widgets": [
            "c051cf2d09794ac988a1d8ee5ad07768",
            "7091b66cdcad4432ba6748c6bab31bde",
            "881b92176c1040e5997faa7f03d9ecd0",
            "7146295657af4a0484b6dbc6d994e60b",
            "11ef04f994b24e55a967fdcae455d02f",
            "c4b11187b88e4b8dbd551ceb0ea237c2",
            "325a0bf829894230a217bd2436946038",
            "246d72a2e67b4d0d937068d45d92ef85",
            "58e357f432bb477990f1c6ff318e70dd",
            "cdb30d8a011747b4ba9c37edddf32f81",
            "1c472ea35c7e4cabb2cdcd46b33625f6"
          ]
        },
        "outputId": "a5833e4d-f5e9-4cc1-b181-b90baba56e80"
      },
      "execution_count": null,
      "outputs": [
        {
          "output_type": "display_data",
          "data": {
            "text/plain": [
              "Text(value='', description='A:', placeholder='Ingrese un número')"
            ],
            "application/vnd.jupyter.widget-view+json": {
              "version_major": 2,
              "version_minor": 0,
              "model_id": "c051cf2d09794ac988a1d8ee5ad07768"
            }
          },
          "metadata": {}
        },
        {
          "output_type": "display_data",
          "data": {
            "text/plain": [
              "Text(value='', description='B:', placeholder='Ingrese un número')"
            ],
            "application/vnd.jupyter.widget-view+json": {
              "version_major": 2,
              "version_minor": 0,
              "model_id": "7146295657af4a0484b6dbc6d994e60b"
            }
          },
          "metadata": {}
        },
        {
          "output_type": "display_data",
          "data": {
            "text/plain": [
              "Button(button_style='success', description='Comparar', style=ButtonStyle())"
            ],
            "application/vnd.jupyter.widget-view+json": {
              "version_major": 2,
              "version_minor": 0,
              "model_id": "325a0bf829894230a217bd2436946038"
            }
          },
          "metadata": {}
        },
        {
          "output_type": "display_data",
          "data": {
            "text/plain": [
              "Output()"
            ],
            "application/vnd.jupyter.widget-view+json": {
              "version_major": 2,
              "version_minor": 0,
              "model_id": "cdb30d8a011747b4ba9c37edddf32f81"
            }
          },
          "metadata": {}
        }
      ]
    },
    {
      "cell_type": "markdown",
      "source": [
        "#**EJERCICIO RESUELTO 10**"
      ],
      "metadata": {
        "id": "EgZg3cQfZVIA"
      }
    },
    {
      "cell_type": "code",
      "source": [
        "import ipywidgets as widgets\n",
        "from IPython.display import display, clear_output\n",
        "\n",
        "# Clase para manejar el cálculo de la matrícula\n",
        "class MatriculaEstudiante:\n",
        "    def __init__(self, numero_inscripcion, nombres, patrimonio, estrato):\n",
        "        self.numero_inscripcion = numero_inscripcion\n",
        "        self.nombres = nombres\n",
        "        self.patrimonio = patrimonio\n",
        "        self.estrato = estrato\n",
        "        self.valor_base = 50000\n",
        "\n",
        "    def calcular_pago_matricula(self):\n",
        "        if self.patrimonio > 2000000 and self.estrato > 3:\n",
        "            incremento = 0.03 * self.patrimonio\n",
        "        else:\n",
        "            incremento = 0\n",
        "        return self.valor_base + incremento\n",
        "\n",
        "# Función para manejar la interacción con la interfaz\n",
        "def calcular_matricula(change):\n",
        "    try:\n",
        "        # Obtener datos de entrada\n",
        "        numero_inscripcion = inscripcion_input.value\n",
        "        nombres = nombres_input.value\n",
        "        patrimonio = float(patrimonio_input.value)\n",
        "        estrato = int(estrato_input.value)\n",
        "\n",
        "        # Validar entradas\n",
        "        if patrimonio < 0 or estrato <= 0:\n",
        "            raise ValueError(\"El patrimonio debe ser positivo y el estrato debe ser mayor que cero.\")\n",
        "\n",
        "        # Crear instancia de MatriculaEstudiante\n",
        "        estudiante = MatriculaEstudiante(numero_inscripcion, nombres, patrimonio, estrato)\n",
        "        pago_matricula = estudiante.calcular_pago_matricula()\n",
        "\n",
        "        # Mostrar resultados\n",
        "        output.clear_output()\n",
        "        with output:\n",
        "            print(f\"Número de Inscripción: {estudiante.numero_inscripcion}\")\n",
        "            print(f\"Nombres: {estudiante.nombres}\")\n",
        "            print(f\"Pago de Matrícula: ${pago_matricula:.2f}\")\n",
        "    except ValueError:\n",
        "        output.clear_output()\n",
        "        with output:\n",
        "            print(\"Por favor, ingrese datos válidos (patrimonio numérico positivo y estrato entero mayor que cero).\")\n",
        "\n",
        "# Crear widgets para la interfaz\n",
        "inscripcion_input = widgets.Text(description=\"Inscripción:\", placeholder=\"Ingrese el número\")\n",
        "nombres_input = widgets.Text(description=\"Nombres:\", placeholder=\"Ingrese los nombres\")\n",
        "patrimonio_input = widgets.Text(description=\"Patrimonio:\", placeholder=\"Ingrese el patrimonio\")\n",
        "estrato_input = widgets.Text(description=\"Estrato:\", placeholder=\"Ingrese el estrato social\")\n",
        "calcular_button = widgets.Button(description=\"Calcular Matrícula\", button_style=\"success\")\n",
        "output = widgets.Output()\n",
        "\n",
        "# Conectar botón con la función\n",
        "calcular_button.on_click(calcular_matricula)\n",
        "\n",
        "# Mostrar widgets en Google Colab\n",
        "display(inscripcion_input, nombres_input, patrimonio_input, estrato_input, calcular_button, output)"
      ],
      "metadata": {
        "colab": {
          "base_uri": "https://localhost:8080/",
          "height": 223,
          "referenced_widgets": [
            "dcd00470f7d44196bf63583af57ac87b",
            "07a09da67eef441ea0c156c96c217f06",
            "c93ad849767a44f0a4fdd8f38f139fe9",
            "b7546242127e4c918fd3f25c3e864626",
            "148e2eb8b61546b89eaa62a4b5c80827",
            "eb3173753fe14b3687f09385a9dee524",
            "aa7c819d7da148829e9fa87b3c6a5c22",
            "30bbf00e7ba249e2b70e4db9cf011520",
            "092255fab6554da7bf82df667cc5f4c8",
            "077d6c5ddde9470fb31be935e10ae4ce",
            "f0c6d4f697064184871d72ed139f27ee",
            "a2b0747a4a8a492ea9528dce167eab9c",
            "ca857c0dccc2447096ea095746284c68",
            "d2b18a6ffeb04cd1a7cadd7c8348327b",
            "b54b7890e00244d98cbc1836881c4377",
            "ce12c3313e964cab8ac1014273289e5e",
            "17fadd15561c4f03ad33ba1910f47d55"
          ]
        },
        "id": "XSE_UOz3Zchg",
        "outputId": "d2fb0461-098f-49c2-ad09-307a3acfccf6"
      },
      "execution_count": null,
      "outputs": [
        {
          "output_type": "display_data",
          "data": {
            "text/plain": [
              "Text(value='', description='Inscripción:', placeholder='Ingrese el número')"
            ],
            "application/vnd.jupyter.widget-view+json": {
              "version_major": 2,
              "version_minor": 0,
              "model_id": "dcd00470f7d44196bf63583af57ac87b"
            }
          },
          "metadata": {}
        },
        {
          "output_type": "display_data",
          "data": {
            "text/plain": [
              "Text(value='', description='Nombres:', placeholder='Ingrese los nombres')"
            ],
            "application/vnd.jupyter.widget-view+json": {
              "version_major": 2,
              "version_minor": 0,
              "model_id": "b7546242127e4c918fd3f25c3e864626"
            }
          },
          "metadata": {}
        },
        {
          "output_type": "display_data",
          "data": {
            "text/plain": [
              "Text(value='', description='Patrimonio:', placeholder='Ingrese el patrimonio')"
            ],
            "application/vnd.jupyter.widget-view+json": {
              "version_major": 2,
              "version_minor": 0,
              "model_id": "aa7c819d7da148829e9fa87b3c6a5c22"
            }
          },
          "metadata": {}
        },
        {
          "output_type": "display_data",
          "data": {
            "text/plain": [
              "Text(value='', description='Estrato:', placeholder='Ingrese el estrato social')"
            ],
            "application/vnd.jupyter.widget-view+json": {
              "version_major": 2,
              "version_minor": 0,
              "model_id": "077d6c5ddde9470fb31be935e10ae4ce"
            }
          },
          "metadata": {}
        },
        {
          "output_type": "display_data",
          "data": {
            "text/plain": [
              "Button(button_style='success', description='Calcular Matrícula', style=ButtonStyle())"
            ],
            "application/vnd.jupyter.widget-view+json": {
              "version_major": 2,
              "version_minor": 0,
              "model_id": "ca857c0dccc2447096ea095746284c68"
            }
          },
          "metadata": {}
        },
        {
          "output_type": "display_data",
          "data": {
            "text/plain": [
              "Output()"
            ],
            "application/vnd.jupyter.widget-view+json": {
              "version_major": 2,
              "version_minor": 0,
              "model_id": "ce12c3313e964cab8ac1014273289e5e"
            }
          },
          "metadata": {}
        }
      ]
    },
    {
      "cell_type": "markdown",
      "source": [
        "#**EJERCICIO PROPUESTO 22**"
      ],
      "metadata": {
        "id": "Vdj7YUG3Zyp7"
      }
    },
    {
      "cell_type": "code",
      "source": [
        "import ipywidgets as widgets\n",
        "from IPython.display import display, clear_output\n",
        "\n",
        "# Clase para manejar los datos del empleado y calcular su salario mensual\n",
        "class Empleado:\n",
        "    def __init__(self, nombre, salario_por_hora, horas_trabajadas):\n",
        "        self.nombre = nombre\n",
        "        self.salario_por_hora = salario_por_hora\n",
        "        self.horas_trabajadas = horas_trabajadas\n",
        "\n",
        "    def calcular_salario_mensual(self):\n",
        "        return self.salario_por_hora * self.horas_trabajadas\n",
        "\n",
        "# Función para manejar la interacción con la interfaz\n",
        "def calcular_salario(change=None):\n",
        "    try:\n",
        "        # Obtener datos de entrada\n",
        "        nombre = nombre_input.value\n",
        "        salario_por_hora = float(salario_input.value)\n",
        "        horas_trabajadas = float(horas_input.value)\n",
        "\n",
        "        # Validar datos\n",
        "        if salario_por_hora <= 0 or horas_trabajadas <= 0:\n",
        "            raise ValueError(\"El salario por hora y las horas trabajadas deben ser mayores que cero.\")\n",
        "\n",
        "        # Crear instancia de Empleado y calcular el salario mensual\n",
        "        empleado = Empleado(nombre, salario_por_hora, horas_trabajadas)\n",
        "        salario_mensual = empleado.calcular_salario_mensual()\n",
        "\n",
        "        # Mostrar resultados\n",
        "        output.clear_output()\n",
        "        with output:\n",
        "            print(f\"Nombre: {empleado.nombre}\")\n",
        "            if salario_mensual > 450000:\n",
        "                print(f\"Salario Mensual: ${salario_mensual:.2f}\")\n",
        "            else:\n",
        "                print(f\"Salario Mensual (por debajo del umbral): ${salario_mensual:.2f}\")\n",
        "    except ValueError:\n",
        "        output.clear_output()\n",
        "        with output:\n",
        "            print(\"Por favor, ingrese datos válidos (números positivos para salario y horas).\")\n",
        "\n",
        "# Crear widgets para la interfaz gráfica\n",
        "nombre_input = widgets.Text(description=\"Nombre:\", placeholder=\"Ingrese el nombre\")\n",
        "salario_input = widgets.Text(description=\"Salario/Hora:\", placeholder=\"Ingrese el salario por hora\")\n",
        "horas_input = widgets.Text(description=\"Horas/mes:\", placeholder=\"Ingrese las horas trabajadas\")\n",
        "calcular_button = widgets.Button(description=\"Calcular Salario\", button_style=\"success\")\n",
        "output = widgets.Output()\n",
        "\n",
        "# Conectar el botón con la función\n",
        "calcular_button.on_click(calcular_salario)\n",
        "\n",
        "# Mostrar widgets en Google Colab\n",
        "display(nombre_input, salario_input, horas_input, calcular_button, output)"
      ],
      "metadata": {
        "colab": {
          "base_uri": "https://localhost:8080/",
          "height": 176,
          "referenced_widgets": [
            "b55c7a3db5a44c8ab38e9807b0c2010e",
            "15bbc3e4573440a3a39cbe7ace432004",
            "c35801c45cf94c868708ef815e145614",
            "9f50665b89a74065a816dd791c3c4a8e",
            "beda862817a64e9095721599cec386a9",
            "68b9f25bf4b444f8afd44ac5d804d939",
            "9d0db4633f594a1f88fc228be6c516eb",
            "1bfdf15e2551493c8c93ce4d09b7cd21",
            "b29445a49b654fbda18d104619e37905",
            "1d378e5e14d7468ba685c6415d2a4373",
            "7a0d93a10a4a471eaf4c84f50b90a5d6",
            "558ead3e4dc146e78c70f691101788ca",
            "4398cfea1b1341e3babf198a99c50438",
            "cd8f0de3ed024ab1b67b7723aae45f5b"
          ]
        },
        "id": "7kIk_R9gZ3NM",
        "outputId": "c89627a0-94ce-42db-d907-9225a342dd96"
      },
      "execution_count": null,
      "outputs": [
        {
          "output_type": "display_data",
          "data": {
            "text/plain": [
              "Text(value='', description='Nombre:', placeholder='Ingrese el nombre')"
            ],
            "application/vnd.jupyter.widget-view+json": {
              "version_major": 2,
              "version_minor": 0,
              "model_id": "b55c7a3db5a44c8ab38e9807b0c2010e"
            }
          },
          "metadata": {}
        },
        {
          "output_type": "display_data",
          "data": {
            "text/plain": [
              "Text(value='', description='Salario/Hora:', placeholder='Ingrese el salario por hora')"
            ],
            "application/vnd.jupyter.widget-view+json": {
              "version_major": 2,
              "version_minor": 0,
              "model_id": "9f50665b89a74065a816dd791c3c4a8e"
            }
          },
          "metadata": {}
        },
        {
          "output_type": "display_data",
          "data": {
            "text/plain": [
              "Text(value='', description='Horas/mes:', placeholder='Ingrese las horas trabajadas')"
            ],
            "application/vnd.jupyter.widget-view+json": {
              "version_major": 2,
              "version_minor": 0,
              "model_id": "9d0db4633f594a1f88fc228be6c516eb"
            }
          },
          "metadata": {}
        },
        {
          "output_type": "display_data",
          "data": {
            "text/plain": [
              "Button(button_style='success', description='Calcular Salario', style=ButtonStyle())"
            ],
            "application/vnd.jupyter.widget-view+json": {
              "version_major": 2,
              "version_minor": 0,
              "model_id": "1d378e5e14d7468ba685c6415d2a4373"
            }
          },
          "metadata": {}
        },
        {
          "output_type": "display_data",
          "data": {
            "text/plain": [
              "Output()"
            ],
            "application/vnd.jupyter.widget-view+json": {
              "version_major": 2,
              "version_minor": 0,
              "model_id": "4398cfea1b1341e3babf198a99c50438"
            }
          },
          "metadata": {}
        }
      ]
    },
    {
      "cell_type": "markdown",
      "source": [
        "#**EJERCICIO PROPUESTO 23**"
      ],
      "metadata": {
        "id": "Ny7ZQKWuZ47n"
      }
    },
    {
      "cell_type": "code",
      "source": [
        "import ipywidgets as widgets\n",
        "from IPython.display import display, clear_output\n",
        "import math\n",
        "\n",
        "# Clase para manejar la resolución de la ecuación de segundo grado\n",
        "class EcuacionSegundaGrado:\n",
        "    def __init__(self, A, B, C):\n",
        "        self.A = A\n",
        "        self.B = B\n",
        "        self.C = C\n",
        "\n",
        "    def resolver_ecuacion(self):\n",
        "        discriminante = self.B**2 - 4 * self.A * self.C\n",
        "        if discriminante > 0:\n",
        "            # Dos soluciones reales\n",
        "            x1 = (-self.B + math.sqrt(discriminante)) / (2 * self.A)\n",
        "            x2 = (-self.B - math.sqrt(discriminante)) / (2 * self.A)\n",
        "            return f\"Las soluciones son: x1 = {x1:.2f} y x2 = {x2:.2f}\"\n",
        "        elif discriminante == 0:\n",
        "            # Una solución real\n",
        "            x = -self.B / (2 * self.A)\n",
        "            return f\"La solución es: x = {x:.2f}\"\n",
        "        else:\n",
        "            # No hay soluciones reales\n",
        "            return \"La ecuación no tiene soluciones reales.\"\n",
        "\n",
        "# Función para manejar la interacción con la interfaz\n",
        "def calcular_soluciones(change):\n",
        "    try:\n",
        "        # Obtener datos de entrada\n",
        "        A = float(A_input.value)\n",
        "        B = float(B_input.value)\n",
        "        C = float(C_input.value)\n",
        "\n",
        "        # Validar datos\n",
        "        if A == 0:\n",
        "            raise ValueError(\"El valor de A no puede ser cero.\")\n",
        "\n",
        "        # Crear instancia de EcuacionSegundaGrado y resolver la ecuación\n",
        "        ecuacion = EcuacionSegundaGrado(A, B, C)\n",
        "        soluciones = ecuacion.resolver_ecuacion()\n",
        "\n",
        "        # Mostrar resultados\n",
        "        output.clear_output()\n",
        "        with output:\n",
        "            print(soluciones)\n",
        "    except ValueError:\n",
        "        output.clear_output()\n",
        "        with output:\n",
        "            print(\"Por favor, ingrese valores válidos para A, B y C.\")\n",
        "\n",
        "# Crear widgets para la interfaz gráfica\n",
        "A_input = widgets.Text(description=\"A:\", placeholder=\"Ingrese el valor de A\")\n",
        "B_input = widgets.Text(description=\"B:\", placeholder=\"Ingrese el valor de B\")\n",
        "C_input = widgets.Text(description=\"C:\", placeholder=\"Ingrese el valor de C\")\n",
        "calcular_button = widgets.Button(description=\"Calcular Soluciones\", button_style=\"success\")\n",
        "output = widgets.Output()\n",
        "\n",
        "# Conectar el botón con la función\n",
        "calcular_button.on_click(calcular_soluciones)\n",
        "\n",
        "# Mostrar widgets en Google Colab\n",
        "display(A_input, B_input, C_input, calcular_button, output)"
      ],
      "metadata": {
        "colab": {
          "base_uri": "https://localhost:8080/",
          "height": 158,
          "referenced_widgets": [
            "8c21afd41ab343e6829de33c5b348903",
            "6d779d132d8a45ac9bb1e6a6417d2630",
            "80b52b196f064935b12985bb1b7c25e6",
            "c3a683d5b4804763922bf66f3670d1b6",
            "20b4067f19cb4ea78e9af175ca2f86a0",
            "652caa82f0094f2fa4d35acb05cf39ea",
            "a0bc88e6f4554155a988994ac3484d26",
            "820d13c09e6a406bbdaa190fc03d0734",
            "c36e9ef073ae4d539dc64c01edce76f4",
            "5c80589bd862482da77dd43489e0862a",
            "975ad189fa104f53b6e7046fa385d011",
            "40d60ea9f02549a29504ed945db9f292",
            "5af21da8e6ce4edda95bdcb985c7bc26",
            "3ebffb16521242228f4740f90be89ff0"
          ]
        },
        "id": "YPmyLfiyZ5GE",
        "outputId": "8b8834a8-7354-4683-bf46-ed33cc42dc1b"
      },
      "execution_count": null,
      "outputs": [
        {
          "output_type": "display_data",
          "data": {
            "text/plain": [
              "Text(value='', description='A:', placeholder='Ingrese el valor de A')"
            ],
            "application/vnd.jupyter.widget-view+json": {
              "version_major": 2,
              "version_minor": 0,
              "model_id": "8c21afd41ab343e6829de33c5b348903"
            }
          },
          "metadata": {}
        },
        {
          "output_type": "display_data",
          "data": {
            "text/plain": [
              "Text(value='', description='B:', placeholder='Ingrese el valor de B')"
            ],
            "application/vnd.jupyter.widget-view+json": {
              "version_major": 2,
              "version_minor": 0,
              "model_id": "c3a683d5b4804763922bf66f3670d1b6"
            }
          },
          "metadata": {}
        },
        {
          "output_type": "display_data",
          "data": {
            "text/plain": [
              "Text(value='', description='C:', placeholder='Ingrese el valor de C')"
            ],
            "application/vnd.jupyter.widget-view+json": {
              "version_major": 2,
              "version_minor": 0,
              "model_id": "a0bc88e6f4554155a988994ac3484d26"
            }
          },
          "metadata": {}
        },
        {
          "output_type": "display_data",
          "data": {
            "text/plain": [
              "Button(button_style='success', description='Calcular Soluciones', style=ButtonStyle())"
            ],
            "application/vnd.jupyter.widget-view+json": {
              "version_major": 2,
              "version_minor": 0,
              "model_id": "5c80589bd862482da77dd43489e0862a"
            }
          },
          "metadata": {}
        },
        {
          "output_type": "display_data",
          "data": {
            "text/plain": [
              "Output()"
            ],
            "application/vnd.jupyter.widget-view+json": {
              "version_major": 2,
              "version_minor": 0,
              "model_id": "5af21da8e6ce4edda95bdcb985c7bc26"
            }
          },
          "metadata": {}
        }
      ]
    },
    {
      "cell_type": "markdown",
      "source": [
        "#**CLASES SOBRE FIGURAS GEOMETRICAS**"
      ],
      "metadata": {
        "id": "7744TANla-Mn"
      }
    },
    {
      "cell_type": "code",
      "source": [],
      "metadata": {
        "id": "2Xf8Lek5bFNH"
      },
      "execution_count": null,
      "outputs": []
    }
  ]
}